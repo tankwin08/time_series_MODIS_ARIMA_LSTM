{
 "cells": [
  {
   "cell_type": "markdown",
   "metadata": {},
   "source": [
    "# MODIS time series analysis using  LSTM at many locations"
   ]
  },
  {
   "cell_type": "markdown",
   "metadata": {},
   "source": [
    "\n",
    "\n",
    "**Objectives:** To demonstrate the LSTM's application for modelling time series analysis using MODIS data such as NDVI and EVI as an example.\n",
    "\n",
    "\n",
    "## Overview\n",
    "\n",
    "## 1 download the MODIS data \n",
    "This step have been finished in R code using MODISTools packages. We get three variables for one region from 2000 to 2020: land cover, NDVI, EVI and corresponding quality layers.\n",
    "\n",
    "## 2 build a LSTM model for NDVI and EVI time series analysis\n",
    "\n",
    "### Three major sections:\n",
    "\n",
    "2.1 Use histroty NDVI data in one location to predict further date's NDVI **(regression, 1D)**.\n",
    "\n",
    "2.2 Use histroy NDVI and EVI data to predict quality score **(regression, 2D)**. Quality column in the data will tell you the NDVI and EVI were obtained with a high confidence. Good quality score is [0,1].\n",
    "\n",
    "2.3 Use histroy NDVI and EVI data to determine if the data quality is high (yes) or low (no) **(classification)**. Here, we will first classify the quality column based on score into two classes [yes, no] as y.\n",
    "\n",
    "\n",
    "### Method summary\n",
    "\n",
    "a: Data exploration\n",
    "\n",
    "b: Filter the data based on data quality column, assign None to low quality values and fill them with neighbour values\n",
    "\n",
    "c: Format data into right fromat for LSTM model. This step is critical.\n",
    "\n",
    "d: Build LSTM model (paramters are not optimzied, mainly for a demo, Bayesian optimization can be used for optimization purpose)\n",
    "\n",
    "e: Evaluation of model results\n",
    "\n"
   ]
  },
  {
   "cell_type": "markdown",
   "metadata": {},
   "source": [
    "## Backgroud on LSTM\n",
    "\n",
    "There are multiple sources to understand the LSTM. Here is one good [explination](http://colah.github.io/posts/2015-08-Understanding-LSTMs/). Basically, three used three gates (forget gate, input gate and output gate)to update the cell states. As the link provide a more comprehensive explination, I will not give redudant infomration on LSTM here.\n",
    "\n",
    " \n",
    "Long Short Term Neural Network (LSTM) are a type of recurrent unit that is often used with deep neural networks. For TensorFlow, LSTM can be thought of as a layer type that can be combined with other layer types, such as dense.  \n",
    "\n",
    "LSTM makes use two transfer function types internally.  \n",
    "\n",
    "The first type of transfer function is the sigmoid.  This transfer function type is used form gates inside of the unit.  \n",
    "\n",
    "The second type of transfer function is the hyperbolic tangent (tanh) function.  This function is used to scale the output of the LSTM, similarly to how other transfer functions have been used in this course. \n",
    "\n",
    "### Why LSTM?\n",
    "\n",
    "RNN cannot handle the long term temporal dependencies as it suffer from vanishing and exploding gradient problems.\n",
    "\n",
    "With LSTM, you can have more control of flow and mixing of inputs. It has both cell state and hidden states. RNN only has hidden state.\n",
    "\n"
   ]
  },
  {
   "cell_type": "markdown",
   "metadata": {},
   "source": [
    "## 2.1 Build a LSTM model for modelling NDVI and EVI"
   ]
  },
  {
   "cell_type": "code",
   "execution_count": 1,
   "metadata": {},
   "outputs": [],
   "source": [
    "## import packages\n",
    "import numpy as np\n",
    "import pandas as pd\n",
    "\n",
    "%matplotlib inline\n",
    "import matplotlib\n",
    "import matplotlib.pyplot as plt\n",
    "#import datetime\n",
    "#import statsmodels.api as sm"
   ]
  },
  {
   "cell_type": "code",
   "execution_count": 2,
   "metadata": {},
   "outputs": [],
   "source": [
    "from tensorflow.keras.preprocessing import sequence\n",
    "from tensorflow.keras.models import Sequential\n",
    "from tensorflow.keras.layers import Dense, Embedding\n",
    "from tensorflow.keras.layers import LSTM\n",
    "from tensorflow.keras.preprocessing import sequence\n",
    "\n",
    "from tensorflow.keras.datasets import imdb\n",
    "from tensorflow.keras.callbacks import EarlyStopping"
   ]
  },
  {
   "cell_type": "code",
   "execution_count": 3,
   "metadata": {},
   "outputs": [],
   "source": [
    "dat = pd.read_csv(\"./data/new_ndvi_evi_qa_lc_nl_gelderland_loobos_2000_2020.csv\")\n",
    "dat.sort_values(['time','pixel'], inplace=True)  ##This is important"
   ]
  },
  {
   "cell_type": "code",
   "execution_count": 7,
   "metadata": {},
   "outputs": [],
   "source": [
    "dat2 = dat.copy() ##mainly for quality prediction 2.2 and 2.3\n",
    "dat2.set_index(\"time\",inplace = True)"
   ]
  },
  {
   "cell_type": "markdown",
   "metadata": {},
   "source": [
    "## 2.1 Predict further NDVI based on histrory data LSTM\n",
    "\n",
    "### Data overview"
   ]
  },
  {
   "cell_type": "code",
   "execution_count": 8,
   "metadata": {},
   "outputs": [
    {
     "name": "stdout",
     "output_type": "stream",
     "text": [
      "<class 'pandas.core.frame.DataFrame'>\n",
      "Int64Index: 502550 entries, 10 to 74267\n",
      "Data columns (total 9 columns):\n",
      " #   Column      Non-Null Count   Dtype  \n",
      "---  ------      --------------   -----  \n",
      " 0   pixel       502550 non-null  int64  \n",
      " 1   year        502550 non-null  int64  \n",
      " 2   ndvi        502550 non-null  float64\n",
      " 3   evi         502550 non-null  float64\n",
      " 4   qa          502550 non-null  float64\n",
      " 5   lai         502550 non-null  float64\n",
      " 6   time        502550 non-null  object \n",
      " 7   land_cover  476100 non-null  float64\n",
      " 8   lc_time     476100 non-null  object \n",
      "dtypes: float64(5), int64(2), object(2)\n",
      "memory usage: 38.3+ MB\n"
     ]
    }
   ],
   "source": [
    "dat.info()"
   ]
  },
  {
   "cell_type": "code",
   "execution_count": 9,
   "metadata": {},
   "outputs": [
    {
     "data": {
      "text/html": [
       "<div>\n",
       "<style scoped>\n",
       "    .dataframe tbody tr th:only-of-type {\n",
       "        vertical-align: middle;\n",
       "    }\n",
       "\n",
       "    .dataframe tbody tr th {\n",
       "        vertical-align: top;\n",
       "    }\n",
       "\n",
       "    .dataframe thead th {\n",
       "        text-align: right;\n",
       "    }\n",
       "</style>\n",
       "<table border=\"1\" class=\"dataframe\">\n",
       "  <thead>\n",
       "    <tr style=\"text-align: right;\">\n",
       "      <th></th>\n",
       "      <th>pixel</th>\n",
       "      <th>year</th>\n",
       "      <th>ndvi</th>\n",
       "      <th>evi</th>\n",
       "      <th>qa</th>\n",
       "      <th>lai</th>\n",
       "      <th>time</th>\n",
       "      <th>land_cover</th>\n",
       "      <th>lc_time</th>\n",
       "    </tr>\n",
       "  </thead>\n",
       "  <tbody>\n",
       "    <tr>\n",
       "      <th>10</th>\n",
       "      <td>1</td>\n",
       "      <td>2001</td>\n",
       "      <td>0.580022</td>\n",
       "      <td>0.229722</td>\n",
       "      <td>1.000000</td>\n",
       "      <td>0.050433</td>\n",
       "      <td>2001-01-01</td>\n",
       "      <td>7.0</td>\n",
       "      <td>2001-01-01</td>\n",
       "    </tr>\n",
       "    <tr>\n",
       "      <th>114507</th>\n",
       "      <td>2</td>\n",
       "      <td>2001</td>\n",
       "      <td>0.413389</td>\n",
       "      <td>0.162797</td>\n",
       "      <td>0.545617</td>\n",
       "      <td>0.045434</td>\n",
       "      <td>2001-01-01</td>\n",
       "      <td>8.0</td>\n",
       "      <td>2001-01-01</td>\n",
       "    </tr>\n",
       "    <tr>\n",
       "      <th>163005</th>\n",
       "      <td>3</td>\n",
       "      <td>2001</td>\n",
       "      <td>0.376526</td>\n",
       "      <td>0.148463</td>\n",
       "      <td>0.000000</td>\n",
       "      <td>0.045796</td>\n",
       "      <td>2001-01-01</td>\n",
       "      <td>8.0</td>\n",
       "      <td>2001-01-01</td>\n",
       "    </tr>\n",
       "    <tr>\n",
       "      <th>211510</th>\n",
       "      <td>4</td>\n",
       "      <td>2001</td>\n",
       "      <td>0.532181</td>\n",
       "      <td>0.207942</td>\n",
       "      <td>0.000000</td>\n",
       "      <td>0.051338</td>\n",
       "      <td>2001-01-01</td>\n",
       "      <td>5.0</td>\n",
       "      <td>2001-01-01</td>\n",
       "    </tr>\n",
       "    <tr>\n",
       "      <th>260025</th>\n",
       "      <td>5</td>\n",
       "      <td>2001</td>\n",
       "      <td>0.719637</td>\n",
       "      <td>0.280162</td>\n",
       "      <td>0.000000</td>\n",
       "      <td>0.055572</td>\n",
       "      <td>2001-01-01</td>\n",
       "      <td>4.0</td>\n",
       "      <td>2001-01-01</td>\n",
       "    </tr>\n",
       "  </tbody>\n",
       "</table>\n",
       "</div>"
      ],
      "text/plain": [
       "        pixel  year      ndvi       evi        qa       lai        time  \\\n",
       "10          1  2001  0.580022  0.229722  1.000000  0.050433  2001-01-01   \n",
       "114507      2  2001  0.413389  0.162797  0.545617  0.045434  2001-01-01   \n",
       "163005      3  2001  0.376526  0.148463  0.000000  0.045796  2001-01-01   \n",
       "211510      4  2001  0.532181  0.207942  0.000000  0.051338  2001-01-01   \n",
       "260025      5  2001  0.719637  0.280162  0.000000  0.055572  2001-01-01   \n",
       "\n",
       "        land_cover     lc_time  \n",
       "10             7.0  2001-01-01  \n",
       "114507         8.0  2001-01-01  \n",
       "163005         8.0  2001-01-01  \n",
       "211510         5.0  2001-01-01  \n",
       "260025         4.0  2001-01-01  "
      ]
     },
     "execution_count": 9,
     "metadata": {},
     "output_type": "execute_result"
    }
   ],
   "source": [
    "dat.head()"
   ]
  },
  {
   "cell_type": "code",
   "execution_count": 10,
   "metadata": {},
   "outputs": [
    {
     "data": {
      "text/plain": [
       "1023    437\n",
       "333     437\n",
       "76      437\n",
       "332     437\n",
       "588     437\n",
       "       ... \n",
       "670     437\n",
       "414     437\n",
       "158     437\n",
       "925     437\n",
       "256     437\n",
       "Name: pixel, Length: 1150, dtype: int64"
      ]
     },
     "execution_count": 10,
     "metadata": {},
     "output_type": "execute_result"
    }
   ],
   "source": [
    "'''here each pixel represet one location and reprsent 250*250 region, \n",
    "we can see there are 437 time observations for each pixel'''\n",
    "\n",
    "dat['pixel'].value_counts()"
   ]
  },
  {
   "cell_type": "markdown",
   "metadata": {},
   "source": [
    "## Data QA/AC\n",
    "\n",
    "1 As we noticed, there is one layer called QA which include the quality information of the pixels at different time. we will first use them to conduct filtering.\n",
    "\n",
    "2 if we have land cover type data, we can used that as a filter, we need to chose land cover type for vegetation from 1 to 10 and 12. You can refer to [here](https://lpdaac.usgs.gov/documents/101/MCD12_User_Guide_V6.pdf) for the land cover classification information"
   ]
  },
  {
   "cell_type": "code",
   "execution_count": 12,
   "metadata": {},
   "outputs": [],
   "source": [
    "##filter based on quality information, it should be within 0 and 1\n",
    "dat['qa'] = dat['qa'].apply(lambda x: x if x>=0 and x<=1 else None)\n",
    "dat2['qa'] = dat2['qa'].apply(lambda x: x if x>=0 and x<=1 else None)"
   ]
  },
  {
   "cell_type": "code",
   "execution_count": 14,
   "metadata": {},
   "outputs": [],
   "source": [
    "dat['land_cover'] = dat['land_cover'].apply(lambda x: x if x>=1 and x<=10 or x ==12 else None )\n",
    "dat2['land_cover'] = dat2['land_cover'].apply(lambda x: x if x>=1 and x<=10 or x ==12 else None )"
   ]
  },
  {
   "cell_type": "markdown",
   "metadata": {},
   "source": [
    "##  Data exploration"
   ]
  },
  {
   "cell_type": "code",
   "execution_count": 15,
   "metadata": {},
   "outputs": [
    {
     "data": {
      "text/plain": [
       "437"
      ]
     },
     "execution_count": 15,
     "metadata": {},
     "output_type": "execute_result"
    }
   ],
   "source": [
    "## 1 get year, month and day\n",
    "dat['time'].nunique()"
   ]
  },
  {
   "cell_type": "code",
   "execution_count": 16,
   "metadata": {},
   "outputs": [],
   "source": [
    "dat['date'] = pd.to_datetime(dat['time'])"
   ]
  },
  {
   "cell_type": "code",
   "execution_count": 17,
   "metadata": {},
   "outputs": [
    {
     "data": {
      "text/html": [
       "<div>\n",
       "<style scoped>\n",
       "    .dataframe tbody tr th:only-of-type {\n",
       "        vertical-align: middle;\n",
       "    }\n",
       "\n",
       "    .dataframe tbody tr th {\n",
       "        vertical-align: top;\n",
       "    }\n",
       "\n",
       "    .dataframe thead th {\n",
       "        text-align: right;\n",
       "    }\n",
       "</style>\n",
       "<table border=\"1\" class=\"dataframe\">\n",
       "  <thead>\n",
       "    <tr style=\"text-align: right;\">\n",
       "      <th></th>\n",
       "      <th>pixel</th>\n",
       "      <th>year</th>\n",
       "      <th>ndvi</th>\n",
       "      <th>evi</th>\n",
       "      <th>qa</th>\n",
       "      <th>lai</th>\n",
       "      <th>time</th>\n",
       "      <th>land_cover</th>\n",
       "      <th>lc_time</th>\n",
       "      <th>date</th>\n",
       "    </tr>\n",
       "  </thead>\n",
       "  <tbody>\n",
       "    <tr>\n",
       "      <th>10</th>\n",
       "      <td>1</td>\n",
       "      <td>2001</td>\n",
       "      <td>0.580022</td>\n",
       "      <td>0.229722</td>\n",
       "      <td>1.000000</td>\n",
       "      <td>0.050433</td>\n",
       "      <td>2001-01-01</td>\n",
       "      <td>7.0</td>\n",
       "      <td>2001-01-01</td>\n",
       "      <td>2001-01-01</td>\n",
       "    </tr>\n",
       "    <tr>\n",
       "      <th>114507</th>\n",
       "      <td>2</td>\n",
       "      <td>2001</td>\n",
       "      <td>0.413389</td>\n",
       "      <td>0.162797</td>\n",
       "      <td>0.545617</td>\n",
       "      <td>0.045434</td>\n",
       "      <td>2001-01-01</td>\n",
       "      <td>8.0</td>\n",
       "      <td>2001-01-01</td>\n",
       "      <td>2001-01-01</td>\n",
       "    </tr>\n",
       "    <tr>\n",
       "      <th>163005</th>\n",
       "      <td>3</td>\n",
       "      <td>2001</td>\n",
       "      <td>0.376526</td>\n",
       "      <td>0.148463</td>\n",
       "      <td>0.000000</td>\n",
       "      <td>0.045796</td>\n",
       "      <td>2001-01-01</td>\n",
       "      <td>8.0</td>\n",
       "      <td>2001-01-01</td>\n",
       "      <td>2001-01-01</td>\n",
       "    </tr>\n",
       "    <tr>\n",
       "      <th>211510</th>\n",
       "      <td>4</td>\n",
       "      <td>2001</td>\n",
       "      <td>0.532181</td>\n",
       "      <td>0.207942</td>\n",
       "      <td>0.000000</td>\n",
       "      <td>0.051338</td>\n",
       "      <td>2001-01-01</td>\n",
       "      <td>5.0</td>\n",
       "      <td>2001-01-01</td>\n",
       "      <td>2001-01-01</td>\n",
       "    </tr>\n",
       "    <tr>\n",
       "      <th>260025</th>\n",
       "      <td>5</td>\n",
       "      <td>2001</td>\n",
       "      <td>0.719637</td>\n",
       "      <td>0.280162</td>\n",
       "      <td>0.000000</td>\n",
       "      <td>0.055572</td>\n",
       "      <td>2001-01-01</td>\n",
       "      <td>4.0</td>\n",
       "      <td>2001-01-01</td>\n",
       "      <td>2001-01-01</td>\n",
       "    </tr>\n",
       "  </tbody>\n",
       "</table>\n",
       "</div>"
      ],
      "text/plain": [
       "        pixel  year      ndvi       evi        qa       lai        time  \\\n",
       "10          1  2001  0.580022  0.229722  1.000000  0.050433  2001-01-01   \n",
       "114507      2  2001  0.413389  0.162797  0.545617  0.045434  2001-01-01   \n",
       "163005      3  2001  0.376526  0.148463  0.000000  0.045796  2001-01-01   \n",
       "211510      4  2001  0.532181  0.207942  0.000000  0.051338  2001-01-01   \n",
       "260025      5  2001  0.719637  0.280162  0.000000  0.055572  2001-01-01   \n",
       "\n",
       "        land_cover     lc_time       date  \n",
       "10             7.0  2001-01-01 2001-01-01  \n",
       "114507         8.0  2001-01-01 2001-01-01  \n",
       "163005         8.0  2001-01-01 2001-01-01  \n",
       "211510         5.0  2001-01-01 2001-01-01  \n",
       "260025         4.0  2001-01-01 2001-01-01  "
      ]
     },
     "execution_count": 17,
     "metadata": {},
     "output_type": "execute_result"
    }
   ],
   "source": [
    "dat.head()"
   ]
  },
  {
   "cell_type": "code",
   "execution_count": 18,
   "metadata": {},
   "outputs": [],
   "source": [
    "dat.set_index('date',inplace=True)"
   ]
  },
  {
   "cell_type": "code",
   "execution_count": 19,
   "metadata": {},
   "outputs": [],
   "source": [
    "##scale the ndvi and evi\n",
    "#df['ndvi'] = df['ndvi']/10000\n",
    "#df['evi'] = df['evi']/10000"
   ]
  },
  {
   "cell_type": "code",
   "execution_count": 20,
   "metadata": {},
   "outputs": [
    {
     "data": {
      "text/html": [
       "<div>\n",
       "<style scoped>\n",
       "    .dataframe tbody tr th:only-of-type {\n",
       "        vertical-align: middle;\n",
       "    }\n",
       "\n",
       "    .dataframe tbody tr th {\n",
       "        vertical-align: top;\n",
       "    }\n",
       "\n",
       "    .dataframe thead th {\n",
       "        text-align: right;\n",
       "    }\n",
       "</style>\n",
       "<table border=\"1\" class=\"dataframe\">\n",
       "  <thead>\n",
       "    <tr style=\"text-align: right;\">\n",
       "      <th></th>\n",
       "      <th>pixel</th>\n",
       "      <th>year</th>\n",
       "      <th>ndvi</th>\n",
       "      <th>evi</th>\n",
       "      <th>qa</th>\n",
       "      <th>lai</th>\n",
       "      <th>time</th>\n",
       "      <th>land_cover</th>\n",
       "      <th>lc_time</th>\n",
       "    </tr>\n",
       "    <tr>\n",
       "      <th>date</th>\n",
       "      <th></th>\n",
       "      <th></th>\n",
       "      <th></th>\n",
       "      <th></th>\n",
       "      <th></th>\n",
       "      <th></th>\n",
       "      <th></th>\n",
       "      <th></th>\n",
       "      <th></th>\n",
       "    </tr>\n",
       "  </thead>\n",
       "  <tbody>\n",
       "    <tr>\n",
       "      <th>2001-01-01</th>\n",
       "      <td>1</td>\n",
       "      <td>2001</td>\n",
       "      <td>0.580022</td>\n",
       "      <td>0.229722</td>\n",
       "      <td>1.000000</td>\n",
       "      <td>0.050433</td>\n",
       "      <td>2001-01-01</td>\n",
       "      <td>7.0</td>\n",
       "      <td>2001-01-01</td>\n",
       "    </tr>\n",
       "    <tr>\n",
       "      <th>2001-01-01</th>\n",
       "      <td>2</td>\n",
       "      <td>2001</td>\n",
       "      <td>0.413389</td>\n",
       "      <td>0.162797</td>\n",
       "      <td>0.545617</td>\n",
       "      <td>0.045434</td>\n",
       "      <td>2001-01-01</td>\n",
       "      <td>8.0</td>\n",
       "      <td>2001-01-01</td>\n",
       "    </tr>\n",
       "    <tr>\n",
       "      <th>2001-01-01</th>\n",
       "      <td>3</td>\n",
       "      <td>2001</td>\n",
       "      <td>0.376526</td>\n",
       "      <td>0.148463</td>\n",
       "      <td>0.000000</td>\n",
       "      <td>0.045796</td>\n",
       "      <td>2001-01-01</td>\n",
       "      <td>8.0</td>\n",
       "      <td>2001-01-01</td>\n",
       "    </tr>\n",
       "    <tr>\n",
       "      <th>2001-01-01</th>\n",
       "      <td>4</td>\n",
       "      <td>2001</td>\n",
       "      <td>0.532181</td>\n",
       "      <td>0.207942</td>\n",
       "      <td>0.000000</td>\n",
       "      <td>0.051338</td>\n",
       "      <td>2001-01-01</td>\n",
       "      <td>5.0</td>\n",
       "      <td>2001-01-01</td>\n",
       "    </tr>\n",
       "    <tr>\n",
       "      <th>2001-01-01</th>\n",
       "      <td>5</td>\n",
       "      <td>2001</td>\n",
       "      <td>0.719637</td>\n",
       "      <td>0.280162</td>\n",
       "      <td>0.000000</td>\n",
       "      <td>0.055572</td>\n",
       "      <td>2001-01-01</td>\n",
       "      <td>4.0</td>\n",
       "      <td>2001-01-01</td>\n",
       "    </tr>\n",
       "  </tbody>\n",
       "</table>\n",
       "</div>"
      ],
      "text/plain": [
       "            pixel  year      ndvi       evi        qa       lai        time  \\\n",
       "date                                                                          \n",
       "2001-01-01      1  2001  0.580022  0.229722  1.000000  0.050433  2001-01-01   \n",
       "2001-01-01      2  2001  0.413389  0.162797  0.545617  0.045434  2001-01-01   \n",
       "2001-01-01      3  2001  0.376526  0.148463  0.000000  0.045796  2001-01-01   \n",
       "2001-01-01      4  2001  0.532181  0.207942  0.000000  0.051338  2001-01-01   \n",
       "2001-01-01      5  2001  0.719637  0.280162  0.000000  0.055572  2001-01-01   \n",
       "\n",
       "            land_cover     lc_time  \n",
       "date                                \n",
       "2001-01-01         7.0  2001-01-01  \n",
       "2001-01-01         8.0  2001-01-01  \n",
       "2001-01-01         8.0  2001-01-01  \n",
       "2001-01-01         5.0  2001-01-01  \n",
       "2001-01-01         4.0  2001-01-01  "
      ]
     },
     "execution_count": 20,
     "metadata": {},
     "output_type": "execute_result"
    }
   ],
   "source": [
    "dat.head()"
   ]
  },
  {
   "cell_type": "code",
   "execution_count": 23,
   "metadata": {},
   "outputs": [],
   "source": [
    "sum_pixel = dat.groupby('pixel').count()"
   ]
  },
  {
   "cell_type": "code",
   "execution_count": 24,
   "metadata": {},
   "outputs": [
    {
     "data": {
      "text/html": [
       "<div>\n",
       "<style scoped>\n",
       "    .dataframe tbody tr th:only-of-type {\n",
       "        vertical-align: middle;\n",
       "    }\n",
       "\n",
       "    .dataframe tbody tr th {\n",
       "        vertical-align: top;\n",
       "    }\n",
       "\n",
       "    .dataframe thead th {\n",
       "        text-align: right;\n",
       "    }\n",
       "</style>\n",
       "<table border=\"1\" class=\"dataframe\">\n",
       "  <thead>\n",
       "    <tr style=\"text-align: right;\">\n",
       "      <th></th>\n",
       "      <th>year</th>\n",
       "      <th>ndvi</th>\n",
       "      <th>evi</th>\n",
       "      <th>qa</th>\n",
       "      <th>lai</th>\n",
       "      <th>time</th>\n",
       "      <th>land_cover</th>\n",
       "      <th>lc_time</th>\n",
       "    </tr>\n",
       "    <tr>\n",
       "      <th>pixel</th>\n",
       "      <th></th>\n",
       "      <th></th>\n",
       "      <th></th>\n",
       "      <th></th>\n",
       "      <th></th>\n",
       "      <th></th>\n",
       "      <th></th>\n",
       "      <th></th>\n",
       "    </tr>\n",
       "  </thead>\n",
       "  <tbody>\n",
       "    <tr>\n",
       "      <th>1</th>\n",
       "      <td>437</td>\n",
       "      <td>437</td>\n",
       "      <td>437</td>\n",
       "      <td>387</td>\n",
       "      <td>437</td>\n",
       "      <td>437</td>\n",
       "      <td>414</td>\n",
       "      <td>414</td>\n",
       "    </tr>\n",
       "    <tr>\n",
       "      <th>2</th>\n",
       "      <td>437</td>\n",
       "      <td>437</td>\n",
       "      <td>437</td>\n",
       "      <td>380</td>\n",
       "      <td>437</td>\n",
       "      <td>437</td>\n",
       "      <td>414</td>\n",
       "      <td>414</td>\n",
       "    </tr>\n",
       "    <tr>\n",
       "      <th>3</th>\n",
       "      <td>437</td>\n",
       "      <td>437</td>\n",
       "      <td>437</td>\n",
       "      <td>387</td>\n",
       "      <td>437</td>\n",
       "      <td>437</td>\n",
       "      <td>414</td>\n",
       "      <td>414</td>\n",
       "    </tr>\n",
       "    <tr>\n",
       "      <th>4</th>\n",
       "      <td>437</td>\n",
       "      <td>437</td>\n",
       "      <td>437</td>\n",
       "      <td>380</td>\n",
       "      <td>437</td>\n",
       "      <td>437</td>\n",
       "      <td>414</td>\n",
       "      <td>414</td>\n",
       "    </tr>\n",
       "    <tr>\n",
       "      <th>5</th>\n",
       "      <td>437</td>\n",
       "      <td>437</td>\n",
       "      <td>437</td>\n",
       "      <td>387</td>\n",
       "      <td>437</td>\n",
       "      <td>437</td>\n",
       "      <td>414</td>\n",
       "      <td>414</td>\n",
       "    </tr>\n",
       "  </tbody>\n",
       "</table>\n",
       "</div>"
      ],
      "text/plain": [
       "       year  ndvi  evi   qa  lai  time  land_cover  lc_time\n",
       "pixel                                                      \n",
       "1       437   437  437  387  437   437         414      414\n",
       "2       437   437  437  380  437   437         414      414\n",
       "3       437   437  437  387  437   437         414      414\n",
       "4       437   437  437  380  437   437         414      414\n",
       "5       437   437  437  387  437   437         414      414"
      ]
     },
     "execution_count": 24,
     "metadata": {},
     "output_type": "execute_result"
    }
   ],
   "source": [
    "sum_pixel.head()"
   ]
  },
  {
   "cell_type": "code",
   "execution_count": 25,
   "metadata": {},
   "outputs": [],
   "source": [
    "#sel_pixel = list(dd[dd['qa'] == dd['qa'].max()].index)\n",
    "\n",
    "sel_pixels = list(sum_pixel[sum_pixel['qa'] > sum_pixel['qa'].mean()+10].index)"
   ]
  },
  {
   "cell_type": "code",
   "execution_count": 28,
   "metadata": {},
   "outputs": [
    {
     "data": {
      "text/plain": [
       "209"
      ]
     },
     "execution_count": 28,
     "metadata": {},
     "output_type": "execute_result"
    }
   ],
   "source": [
    "len(sel_pixels)"
   ]
  },
  {
   "cell_type": "markdown",
   "metadata": {},
   "source": [
    "### Visualize the Data at one pixel"
   ]
  },
  {
   "cell_type": "code",
   "execution_count": 29,
   "metadata": {},
   "outputs": [],
   "source": [
    "##one location or one pixel\n",
    "sub_df = dat[dat['pixel']== sel_pixels[0]]\n",
    "sub_df1 = sub_df.copy()"
   ]
  },
  {
   "cell_type": "code",
   "execution_count": 30,
   "metadata": {},
   "outputs": [
    {
     "data": {
      "text/plain": [
       "<matplotlib.axes._subplots.AxesSubplot at 0x263d29505c8>"
      ]
     },
     "execution_count": 30,
     "metadata": {},
     "output_type": "execute_result"
    },
    {
     "data": {
      "image/png": "[encoded data removed]",
      "text/plain": [
       "<Figure size 432x288 with 1 Axes>"
      ]
     },
     "metadata": {
      "needs_background": "light"
     },
     "output_type": "display_data"
    }
   ],
   "source": [
    "sub_df[['ndvi','evi']].plot()"
   ]
  },
  {
   "cell_type": "markdown",
   "metadata": {},
   "source": [
    "### Low quality values\n",
    "\n",
    "We can see that there are a lot of abnormal values or outliers.\n",
    "Thus, we need to filter them ased on the QA column. \n",
    "\n",
    "There are two strategies to process these low quality or abnormal values\n",
    "\n",
    "1 to remove them\n",
    "\n",
    "2 to fill them with mean of neaby locations"
   ]
  },
  {
   "cell_type": "markdown",
   "metadata": {},
   "source": [
    "### Low quality and abnormla values"
   ]
  },
  {
   "cell_type": "code",
   "execution_count": 31,
   "metadata": {},
   "outputs": [],
   "source": [
    "## deal with low quality values, to keep more data for following modelling, used second strategry\n",
    "def lw_process(df,cols,qual_col = \"qa\",strategies = \"fill\"):\n",
    "    for col in cols:\n",
    "        if strategies != \"fill\":\n",
    "            df[col] = df[df[qual_col].notnull()][col]\n",
    "        else:\n",
    "            df.loc[df[qual_col].isnull(),col] = None\n",
    "            ##replace with neighbours\n",
    "            df[col] = (df[col].fillna(method = 'ffill') + df[col].fillna(method = 'bfill'))/2\n",
    "    return df        "
   ]
  },
  {
   "cell_type": "code",
   "execution_count": 32,
   "metadata": {},
   "outputs": [],
   "source": [
    "df1 = lw_process(dat,cols = ['ndvi','evi'])"
   ]
  },
  {
   "cell_type": "code",
   "execution_count": 33,
   "metadata": {},
   "outputs": [
    {
     "data": {
      "text/html": [
       "<div>\n",
       "<style scoped>\n",
       "    .dataframe tbody tr th:only-of-type {\n",
       "        vertical-align: middle;\n",
       "    }\n",
       "\n",
       "    .dataframe tbody tr th {\n",
       "        vertical-align: top;\n",
       "    }\n",
       "\n",
       "    .dataframe thead th {\n",
       "        text-align: right;\n",
       "    }\n",
       "</style>\n",
       "<table border=\"1\" class=\"dataframe\">\n",
       "  <thead>\n",
       "    <tr style=\"text-align: right;\">\n",
       "      <th></th>\n",
       "      <th>pixel</th>\n",
       "      <th>year</th>\n",
       "      <th>ndvi</th>\n",
       "      <th>evi</th>\n",
       "      <th>qa</th>\n",
       "      <th>lai</th>\n",
       "      <th>time</th>\n",
       "      <th>land_cover</th>\n",
       "      <th>lc_time</th>\n",
       "    </tr>\n",
       "    <tr>\n",
       "      <th>date</th>\n",
       "      <th></th>\n",
       "      <th></th>\n",
       "      <th></th>\n",
       "      <th></th>\n",
       "      <th></th>\n",
       "      <th></th>\n",
       "      <th></th>\n",
       "      <th></th>\n",
       "      <th></th>\n",
       "    </tr>\n",
       "  </thead>\n",
       "  <tbody>\n",
       "    <tr>\n",
       "      <th>2001-01-01</th>\n",
       "      <td>1</td>\n",
       "      <td>2001</td>\n",
       "      <td>0.580022</td>\n",
       "      <td>0.229722</td>\n",
       "      <td>1.000000</td>\n",
       "      <td>0.050433</td>\n",
       "      <td>2001-01-01</td>\n",
       "      <td>7.0</td>\n",
       "      <td>2001-01-01</td>\n",
       "    </tr>\n",
       "    <tr>\n",
       "      <th>2001-01-01</th>\n",
       "      <td>2</td>\n",
       "      <td>2001</td>\n",
       "      <td>0.413389</td>\n",
       "      <td>0.162797</td>\n",
       "      <td>0.545617</td>\n",
       "      <td>0.045434</td>\n",
       "      <td>2001-01-01</td>\n",
       "      <td>8.0</td>\n",
       "      <td>2001-01-01</td>\n",
       "    </tr>\n",
       "    <tr>\n",
       "      <th>2001-01-01</th>\n",
       "      <td>3</td>\n",
       "      <td>2001</td>\n",
       "      <td>0.376526</td>\n",
       "      <td>0.148463</td>\n",
       "      <td>0.000000</td>\n",
       "      <td>0.045796</td>\n",
       "      <td>2001-01-01</td>\n",
       "      <td>8.0</td>\n",
       "      <td>2001-01-01</td>\n",
       "    </tr>\n",
       "    <tr>\n",
       "      <th>2001-01-01</th>\n",
       "      <td>4</td>\n",
       "      <td>2001</td>\n",
       "      <td>0.532181</td>\n",
       "      <td>0.207942</td>\n",
       "      <td>0.000000</td>\n",
       "      <td>0.051338</td>\n",
       "      <td>2001-01-01</td>\n",
       "      <td>5.0</td>\n",
       "      <td>2001-01-01</td>\n",
       "    </tr>\n",
       "    <tr>\n",
       "      <th>2001-01-01</th>\n",
       "      <td>5</td>\n",
       "      <td>2001</td>\n",
       "      <td>0.719637</td>\n",
       "      <td>0.280162</td>\n",
       "      <td>0.000000</td>\n",
       "      <td>0.055572</td>\n",
       "      <td>2001-01-01</td>\n",
       "      <td>4.0</td>\n",
       "      <td>2001-01-01</td>\n",
       "    </tr>\n",
       "  </tbody>\n",
       "</table>\n",
       "</div>"
      ],
      "text/plain": [
       "            pixel  year      ndvi       evi        qa       lai        time  \\\n",
       "date                                                                          \n",
       "2001-01-01      1  2001  0.580022  0.229722  1.000000  0.050433  2001-01-01   \n",
       "2001-01-01      2  2001  0.413389  0.162797  0.545617  0.045434  2001-01-01   \n",
       "2001-01-01      3  2001  0.376526  0.148463  0.000000  0.045796  2001-01-01   \n",
       "2001-01-01      4  2001  0.532181  0.207942  0.000000  0.051338  2001-01-01   \n",
       "2001-01-01      5  2001  0.719637  0.280162  0.000000  0.055572  2001-01-01   \n",
       "\n",
       "            land_cover     lc_time  \n",
       "date                                \n",
       "2001-01-01         7.0  2001-01-01  \n",
       "2001-01-01         8.0  2001-01-01  \n",
       "2001-01-01         8.0  2001-01-01  \n",
       "2001-01-01         5.0  2001-01-01  \n",
       "2001-01-01         4.0  2001-01-01  "
      ]
     },
     "execution_count": 33,
     "metadata": {},
     "output_type": "execute_result"
    }
   ],
   "source": [
    "df1.head()"
   ]
  },
  {
   "cell_type": "code",
   "execution_count": 34,
   "metadata": {},
   "outputs": [
    {
     "data": {
      "text/html": [
       "<div>\n",
       "<style scoped>\n",
       "    .dataframe tbody tr th:only-of-type {\n",
       "        vertical-align: middle;\n",
       "    }\n",
       "\n",
       "    .dataframe tbody tr th {\n",
       "        vertical-align: top;\n",
       "    }\n",
       "\n",
       "    .dataframe thead th {\n",
       "        text-align: right;\n",
       "    }\n",
       "</style>\n",
       "<table border=\"1\" class=\"dataframe\">\n",
       "  <thead>\n",
       "    <tr style=\"text-align: right;\">\n",
       "      <th></th>\n",
       "      <th>pixel</th>\n",
       "      <th>year</th>\n",
       "      <th>ndvi</th>\n",
       "      <th>evi</th>\n",
       "      <th>qa</th>\n",
       "      <th>lai</th>\n",
       "      <th>time</th>\n",
       "      <th>land_cover</th>\n",
       "      <th>lc_time</th>\n",
       "    </tr>\n",
       "    <tr>\n",
       "      <th>date</th>\n",
       "      <th></th>\n",
       "      <th></th>\n",
       "      <th></th>\n",
       "      <th></th>\n",
       "      <th></th>\n",
       "      <th></th>\n",
       "      <th></th>\n",
       "      <th></th>\n",
       "      <th></th>\n",
       "    </tr>\n",
       "  </thead>\n",
       "  <tbody>\n",
       "    <tr>\n",
       "      <th>2001-01-01</th>\n",
       "      <td>65</td>\n",
       "      <td>2001</td>\n",
       "      <td>0.711466</td>\n",
       "      <td>0.275823</td>\n",
       "      <td>NaN</td>\n",
       "      <td>0.067604</td>\n",
       "      <td>2001-01-01</td>\n",
       "      <td>7.0</td>\n",
       "      <td>2001-01-01</td>\n",
       "    </tr>\n",
       "    <tr>\n",
       "      <th>2001-01-01</th>\n",
       "      <td>98</td>\n",
       "      <td>2001</td>\n",
       "      <td>0.618754</td>\n",
       "      <td>0.240521</td>\n",
       "      <td>NaN</td>\n",
       "      <td>0.074681</td>\n",
       "      <td>2001-01-01</td>\n",
       "      <td>9.0</td>\n",
       "      <td>2001-01-01</td>\n",
       "    </tr>\n",
       "    <tr>\n",
       "      <th>2001-01-01</th>\n",
       "      <td>131</td>\n",
       "      <td>2001</td>\n",
       "      <td>0.587112</td>\n",
       "      <td>0.232783</td>\n",
       "      <td>NaN</td>\n",
       "      <td>0.084101</td>\n",
       "      <td>2001-01-01</td>\n",
       "      <td>9.0</td>\n",
       "      <td>2001-01-01</td>\n",
       "    </tr>\n",
       "    <tr>\n",
       "      <th>2001-01-01</th>\n",
       "      <td>450</td>\n",
       "      <td>2001</td>\n",
       "      <td>0.552984</td>\n",
       "      <td>0.289580</td>\n",
       "      <td>NaN</td>\n",
       "      <td>0.081269</td>\n",
       "      <td>2001-01-01</td>\n",
       "      <td>9.0</td>\n",
       "      <td>2001-01-01</td>\n",
       "    </tr>\n",
       "    <tr>\n",
       "      <th>2001-01-01</th>\n",
       "      <td>451</td>\n",
       "      <td>2001</td>\n",
       "      <td>0.552984</td>\n",
       "      <td>0.289580</td>\n",
       "      <td>NaN</td>\n",
       "      <td>0.077006</td>\n",
       "      <td>2001-01-01</td>\n",
       "      <td>9.0</td>\n",
       "      <td>2001-01-01</td>\n",
       "    </tr>\n",
       "    <tr>\n",
       "      <th>...</th>\n",
       "      <td>...</td>\n",
       "      <td>...</td>\n",
       "      <td>...</td>\n",
       "      <td>...</td>\n",
       "      <td>...</td>\n",
       "      <td>...</td>\n",
       "      <td>...</td>\n",
       "      <td>...</td>\n",
       "      <td>...</td>\n",
       "    </tr>\n",
       "    <tr>\n",
       "      <th>2019-12-19</th>\n",
       "      <td>1020</td>\n",
       "      <td>2019</td>\n",
       "      <td>0.510744</td>\n",
       "      <td>0.170990</td>\n",
       "      <td>NaN</td>\n",
       "      <td>0.057612</td>\n",
       "      <td>2019-12-19</td>\n",
       "      <td>NaN</td>\n",
       "      <td>NaN</td>\n",
       "    </tr>\n",
       "    <tr>\n",
       "      <th>2019-12-19</th>\n",
       "      <td>1050</td>\n",
       "      <td>2019</td>\n",
       "      <td>0.573083</td>\n",
       "      <td>0.189842</td>\n",
       "      <td>NaN</td>\n",
       "      <td>0.063258</td>\n",
       "      <td>2019-12-19</td>\n",
       "      <td>NaN</td>\n",
       "      <td>NaN</td>\n",
       "    </tr>\n",
       "    <tr>\n",
       "      <th>2019-12-19</th>\n",
       "      <td>1051</td>\n",
       "      <td>2019</td>\n",
       "      <td>0.573083</td>\n",
       "      <td>0.189842</td>\n",
       "      <td>NaN</td>\n",
       "      <td>0.065435</td>\n",
       "      <td>2019-12-19</td>\n",
       "      <td>NaN</td>\n",
       "      <td>NaN</td>\n",
       "    </tr>\n",
       "    <tr>\n",
       "      <th>2019-12-19</th>\n",
       "      <td>1052</td>\n",
       "      <td>2019</td>\n",
       "      <td>0.573083</td>\n",
       "      <td>0.189842</td>\n",
       "      <td>NaN</td>\n",
       "      <td>0.066965</td>\n",
       "      <td>2019-12-19</td>\n",
       "      <td>NaN</td>\n",
       "      <td>NaN</td>\n",
       "    </tr>\n",
       "    <tr>\n",
       "      <th>2019-12-19</th>\n",
       "      <td>1053</td>\n",
       "      <td>2019</td>\n",
       "      <td>0.573083</td>\n",
       "      <td>0.189842</td>\n",
       "      <td>NaN</td>\n",
       "      <td>0.066847</td>\n",
       "      <td>2019-12-19</td>\n",
       "      <td>NaN</td>\n",
       "      <td>NaN</td>\n",
       "    </tr>\n",
       "  </tbody>\n",
       "</table>\n",
       "<p>72958 rows × 9 columns</p>\n",
       "</div>"
      ],
      "text/plain": [
       "            pixel  year      ndvi       evi  qa       lai        time  \\\n",
       "date                                                                    \n",
       "2001-01-01     65  2001  0.711466  0.275823 NaN  0.067604  2001-01-01   \n",
       "2001-01-01     98  2001  0.618754  0.240521 NaN  0.074681  2001-01-01   \n",
       "2001-01-01    131  2001  0.587112  0.232783 NaN  0.084101  2001-01-01   \n",
       "2001-01-01    450  2001  0.552984  0.289580 NaN  0.081269  2001-01-01   \n",
       "2001-01-01    451  2001  0.552984  0.289580 NaN  0.077006  2001-01-01   \n",
       "...           ...   ...       ...       ...  ..       ...         ...   \n",
       "2019-12-19   1020  2019  0.510744  0.170990 NaN  0.057612  2019-12-19   \n",
       "2019-12-19   1050  2019  0.573083  0.189842 NaN  0.063258  2019-12-19   \n",
       "2019-12-19   1051  2019  0.573083  0.189842 NaN  0.065435  2019-12-19   \n",
       "2019-12-19   1052  2019  0.573083  0.189842 NaN  0.066965  2019-12-19   \n",
       "2019-12-19   1053  2019  0.573083  0.189842 NaN  0.066847  2019-12-19   \n",
       "\n",
       "            land_cover     lc_time  \n",
       "date                                \n",
       "2001-01-01         7.0  2001-01-01  \n",
       "2001-01-01         9.0  2001-01-01  \n",
       "2001-01-01         9.0  2001-01-01  \n",
       "2001-01-01         9.0  2001-01-01  \n",
       "2001-01-01         9.0  2001-01-01  \n",
       "...                ...         ...  \n",
       "2019-12-19         NaN         NaN  \n",
       "2019-12-19         NaN         NaN  \n",
       "2019-12-19         NaN         NaN  \n",
       "2019-12-19         NaN         NaN  \n",
       "2019-12-19         NaN         NaN  \n",
       "\n",
       "[72958 rows x 9 columns]"
      ]
     },
     "execution_count": 34,
     "metadata": {},
     "output_type": "execute_result"
    }
   ],
   "source": [
    "##check the results after preprocessing to fill the low quality values\n",
    "df1[df1['qa'].isnull()]"
   ]
  },
  {
   "cell_type": "code",
   "execution_count": 35,
   "metadata": {},
   "outputs": [
    {
     "data": {
      "text/html": [
       "<div>\n",
       "<style scoped>\n",
       "    .dataframe tbody tr th:only-of-type {\n",
       "        vertical-align: middle;\n",
       "    }\n",
       "\n",
       "    .dataframe tbody tr th {\n",
       "        vertical-align: top;\n",
       "    }\n",
       "\n",
       "    .dataframe thead th {\n",
       "        text-align: right;\n",
       "    }\n",
       "</style>\n",
       "<table border=\"1\" class=\"dataframe\">\n",
       "  <thead>\n",
       "    <tr style=\"text-align: right;\">\n",
       "      <th></th>\n",
       "      <th>pixel</th>\n",
       "      <th>year</th>\n",
       "      <th>ndvi</th>\n",
       "      <th>evi</th>\n",
       "      <th>qa</th>\n",
       "      <th>lai</th>\n",
       "      <th>land_cover</th>\n",
       "      <th>lc_time</th>\n",
       "    </tr>\n",
       "    <tr>\n",
       "      <th>time</th>\n",
       "      <th></th>\n",
       "      <th></th>\n",
       "      <th></th>\n",
       "      <th></th>\n",
       "      <th></th>\n",
       "      <th></th>\n",
       "      <th></th>\n",
       "      <th></th>\n",
       "    </tr>\n",
       "  </thead>\n",
       "  <tbody>\n",
       "    <tr>\n",
       "      <th>2001-01-01</th>\n",
       "      <td>65</td>\n",
       "      <td>2001</td>\n",
       "      <td>0.690066</td>\n",
       "      <td>0.259516</td>\n",
       "      <td>NaN</td>\n",
       "      <td>0.067604</td>\n",
       "      <td>7.0</td>\n",
       "      <td>2001-01-01</td>\n",
       "    </tr>\n",
       "    <tr>\n",
       "      <th>2001-01-01</th>\n",
       "      <td>98</td>\n",
       "      <td>2001</td>\n",
       "      <td>0.669664</td>\n",
       "      <td>0.315819</td>\n",
       "      <td>NaN</td>\n",
       "      <td>0.074681</td>\n",
       "      <td>9.0</td>\n",
       "      <td>2001-01-01</td>\n",
       "    </tr>\n",
       "    <tr>\n",
       "      <th>2001-01-01</th>\n",
       "      <td>131</td>\n",
       "      <td>2001</td>\n",
       "      <td>0.619128</td>\n",
       "      <td>0.283310</td>\n",
       "      <td>NaN</td>\n",
       "      <td>0.084101</td>\n",
       "      <td>9.0</td>\n",
       "      <td>2001-01-01</td>\n",
       "    </tr>\n",
       "    <tr>\n",
       "      <th>2001-01-01</th>\n",
       "      <td>450</td>\n",
       "      <td>2001</td>\n",
       "      <td>0.561985</td>\n",
       "      <td>0.293409</td>\n",
       "      <td>NaN</td>\n",
       "      <td>0.081269</td>\n",
       "      <td>9.0</td>\n",
       "      <td>2001-01-01</td>\n",
       "    </tr>\n",
       "    <tr>\n",
       "      <th>2001-01-01</th>\n",
       "      <td>451</td>\n",
       "      <td>2001</td>\n",
       "      <td>0.543720</td>\n",
       "      <td>0.254845</td>\n",
       "      <td>NaN</td>\n",
       "      <td>0.077006</td>\n",
       "      <td>9.0</td>\n",
       "      <td>2001-01-01</td>\n",
       "    </tr>\n",
       "    <tr>\n",
       "      <th>...</th>\n",
       "      <td>...</td>\n",
       "      <td>...</td>\n",
       "      <td>...</td>\n",
       "      <td>...</td>\n",
       "      <td>...</td>\n",
       "      <td>...</td>\n",
       "      <td>...</td>\n",
       "      <td>...</td>\n",
       "    </tr>\n",
       "    <tr>\n",
       "      <th>2019-12-19</th>\n",
       "      <td>1020</td>\n",
       "      <td>2019</td>\n",
       "      <td>0.181339</td>\n",
       "      <td>0.149335</td>\n",
       "      <td>NaN</td>\n",
       "      <td>0.057612</td>\n",
       "      <td>NaN</td>\n",
       "      <td>NaN</td>\n",
       "    </tr>\n",
       "    <tr>\n",
       "      <th>2019-12-19</th>\n",
       "      <td>1050</td>\n",
       "      <td>2019</td>\n",
       "      <td>0.473344</td>\n",
       "      <td>0.257839</td>\n",
       "      <td>NaN</td>\n",
       "      <td>0.063258</td>\n",
       "      <td>NaN</td>\n",
       "      <td>NaN</td>\n",
       "    </tr>\n",
       "    <tr>\n",
       "      <th>2019-12-19</th>\n",
       "      <td>1051</td>\n",
       "      <td>2019</td>\n",
       "      <td>0.407118</td>\n",
       "      <td>0.226752</td>\n",
       "      <td>NaN</td>\n",
       "      <td>0.065435</td>\n",
       "      <td>NaN</td>\n",
       "      <td>NaN</td>\n",
       "    </tr>\n",
       "    <tr>\n",
       "      <th>2019-12-19</th>\n",
       "      <td>1052</td>\n",
       "      <td>2019</td>\n",
       "      <td>0.364012</td>\n",
       "      <td>0.219725</td>\n",
       "      <td>NaN</td>\n",
       "      <td>0.066965</td>\n",
       "      <td>NaN</td>\n",
       "      <td>NaN</td>\n",
       "    </tr>\n",
       "    <tr>\n",
       "      <th>2019-12-19</th>\n",
       "      <td>1053</td>\n",
       "      <td>2019</td>\n",
       "      <td>0.381405</td>\n",
       "      <td>0.227696</td>\n",
       "      <td>NaN</td>\n",
       "      <td>0.066847</td>\n",
       "      <td>NaN</td>\n",
       "      <td>NaN</td>\n",
       "    </tr>\n",
       "  </tbody>\n",
       "</table>\n",
       "<p>72958 rows × 8 columns</p>\n",
       "</div>"
      ],
      "text/plain": [
       "            pixel  year      ndvi       evi  qa       lai  land_cover  \\\n",
       "time                                                                    \n",
       "2001-01-01     65  2001  0.690066  0.259516 NaN  0.067604         7.0   \n",
       "2001-01-01     98  2001  0.669664  0.315819 NaN  0.074681         9.0   \n",
       "2001-01-01    131  2001  0.619128  0.283310 NaN  0.084101         9.0   \n",
       "2001-01-01    450  2001  0.561985  0.293409 NaN  0.081269         9.0   \n",
       "2001-01-01    451  2001  0.543720  0.254845 NaN  0.077006         9.0   \n",
       "...           ...   ...       ...       ...  ..       ...         ...   \n",
       "2019-12-19   1020  2019  0.181339  0.149335 NaN  0.057612         NaN   \n",
       "2019-12-19   1050  2019  0.473344  0.257839 NaN  0.063258         NaN   \n",
       "2019-12-19   1051  2019  0.407118  0.226752 NaN  0.065435         NaN   \n",
       "2019-12-19   1052  2019  0.364012  0.219725 NaN  0.066965         NaN   \n",
       "2019-12-19   1053  2019  0.381405  0.227696 NaN  0.066847         NaN   \n",
       "\n",
       "               lc_time  \n",
       "time                    \n",
       "2001-01-01  2001-01-01  \n",
       "2001-01-01  2001-01-01  \n",
       "2001-01-01  2001-01-01  \n",
       "2001-01-01  2001-01-01  \n",
       "2001-01-01  2001-01-01  \n",
       "...                ...  \n",
       "2019-12-19         NaN  \n",
       "2019-12-19         NaN  \n",
       "2019-12-19         NaN  \n",
       "2019-12-19         NaN  \n",
       "2019-12-19         NaN  \n",
       "\n",
       "[72958 rows x 8 columns]"
      ]
     },
     "execution_count": 35,
     "metadata": {},
     "output_type": "execute_result"
    }
   ],
   "source": [
    "## original data \n",
    "dat2[dat2['qa'].isnull()]"
   ]
  },
  {
   "cell_type": "code",
   "execution_count": 36,
   "metadata": {},
   "outputs": [],
   "source": [
    "sub_ndf1 = dat"
   ]
  },
  {
   "cell_type": "code",
   "execution_count": 37,
   "metadata": {},
   "outputs": [
    {
     "data": {
      "text/html": [
       "<div>\n",
       "<style scoped>\n",
       "    .dataframe tbody tr th:only-of-type {\n",
       "        vertical-align: middle;\n",
       "    }\n",
       "\n",
       "    .dataframe tbody tr th {\n",
       "        vertical-align: top;\n",
       "    }\n",
       "\n",
       "    .dataframe thead th {\n",
       "        text-align: right;\n",
       "    }\n",
       "</style>\n",
       "<table border=\"1\" class=\"dataframe\">\n",
       "  <thead>\n",
       "    <tr style=\"text-align: right;\">\n",
       "      <th></th>\n",
       "      <th>pixel</th>\n",
       "      <th>year</th>\n",
       "      <th>ndvi</th>\n",
       "      <th>evi</th>\n",
       "      <th>qa</th>\n",
       "      <th>lai</th>\n",
       "      <th>time</th>\n",
       "      <th>land_cover</th>\n",
       "      <th>lc_time</th>\n",
       "    </tr>\n",
       "    <tr>\n",
       "      <th>date</th>\n",
       "      <th></th>\n",
       "      <th></th>\n",
       "      <th></th>\n",
       "      <th></th>\n",
       "      <th></th>\n",
       "      <th></th>\n",
       "      <th></th>\n",
       "      <th></th>\n",
       "      <th></th>\n",
       "    </tr>\n",
       "  </thead>\n",
       "  <tbody>\n",
       "    <tr>\n",
       "      <th>2001-01-01</th>\n",
       "      <td>1</td>\n",
       "      <td>2001</td>\n",
       "      <td>0.580022</td>\n",
       "      <td>0.229722</td>\n",
       "      <td>1.000000</td>\n",
       "      <td>0.050433</td>\n",
       "      <td>2001-01-01</td>\n",
       "      <td>7.0</td>\n",
       "      <td>2001-01-01</td>\n",
       "    </tr>\n",
       "    <tr>\n",
       "      <th>2001-01-01</th>\n",
       "      <td>2</td>\n",
       "      <td>2001</td>\n",
       "      <td>0.413389</td>\n",
       "      <td>0.162797</td>\n",
       "      <td>0.545617</td>\n",
       "      <td>0.045434</td>\n",
       "      <td>2001-01-01</td>\n",
       "      <td>8.0</td>\n",
       "      <td>2001-01-01</td>\n",
       "    </tr>\n",
       "    <tr>\n",
       "      <th>2001-01-01</th>\n",
       "      <td>3</td>\n",
       "      <td>2001</td>\n",
       "      <td>0.376526</td>\n",
       "      <td>0.148463</td>\n",
       "      <td>0.000000</td>\n",
       "      <td>0.045796</td>\n",
       "      <td>2001-01-01</td>\n",
       "      <td>8.0</td>\n",
       "      <td>2001-01-01</td>\n",
       "    </tr>\n",
       "    <tr>\n",
       "      <th>2001-01-01</th>\n",
       "      <td>4</td>\n",
       "      <td>2001</td>\n",
       "      <td>0.532181</td>\n",
       "      <td>0.207942</td>\n",
       "      <td>0.000000</td>\n",
       "      <td>0.051338</td>\n",
       "      <td>2001-01-01</td>\n",
       "      <td>5.0</td>\n",
       "      <td>2001-01-01</td>\n",
       "    </tr>\n",
       "    <tr>\n",
       "      <th>2001-01-01</th>\n",
       "      <td>5</td>\n",
       "      <td>2001</td>\n",
       "      <td>0.719637</td>\n",
       "      <td>0.280162</td>\n",
       "      <td>0.000000</td>\n",
       "      <td>0.055572</td>\n",
       "      <td>2001-01-01</td>\n",
       "      <td>4.0</td>\n",
       "      <td>2001-01-01</td>\n",
       "    </tr>\n",
       "  </tbody>\n",
       "</table>\n",
       "</div>"
      ],
      "text/plain": [
       "            pixel  year      ndvi       evi        qa       lai        time  \\\n",
       "date                                                                          \n",
       "2001-01-01      1  2001  0.580022  0.229722  1.000000  0.050433  2001-01-01   \n",
       "2001-01-01      2  2001  0.413389  0.162797  0.545617  0.045434  2001-01-01   \n",
       "2001-01-01      3  2001  0.376526  0.148463  0.000000  0.045796  2001-01-01   \n",
       "2001-01-01      4  2001  0.532181  0.207942  0.000000  0.051338  2001-01-01   \n",
       "2001-01-01      5  2001  0.719637  0.280162  0.000000  0.055572  2001-01-01   \n",
       "\n",
       "            land_cover     lc_time  \n",
       "date                                \n",
       "2001-01-01         7.0  2001-01-01  \n",
       "2001-01-01         8.0  2001-01-01  \n",
       "2001-01-01         8.0  2001-01-01  \n",
       "2001-01-01         5.0  2001-01-01  \n",
       "2001-01-01         4.0  2001-01-01  "
      ]
     },
     "execution_count": 37,
     "metadata": {},
     "output_type": "execute_result"
    }
   ],
   "source": [
    "sub_ndf1.head()"
   ]
  },
  {
   "cell_type": "markdown",
   "metadata": {},
   "source": [
    "## LSTM\n",
    "\n",
    "### Data formatting"
   ]
  },
  {
   "cell_type": "code",
   "execution_count": 65,
   "metadata": {},
   "outputs": [],
   "source": [
    "import numpy as np\n",
    "##When our feature is one dimension\n",
    "def to_sequences_1D (seq_size,obs,step=1):\n",
    "    x = []\n",
    "    y = []\n",
    "\n",
    "    for i in range(0,len(obs)-SEQUENCE_SIZE,step):\n",
    "        '''\n",
    "        seq_size: the number of observations will be used for training\n",
    "        step: the change of observations to form a new training data\n",
    "        obs: the whole dataset\n",
    "        '''\n",
    "        #print(i)\n",
    "        window = obs[i:(i+SEQUENCE_SIZE)]\n",
    "        after_window = obs[i+SEQUENCE_SIZE]\n",
    "        window = [[x] for x in window]\n",
    "        #print(\"{} - {}\".format(window,after_window))\n",
    "        x.append(window)\n",
    "        y.append(after_window)\n",
    "        \n",
    "    return np.array(x),np.array(y)"
   ]
  },
  {
   "cell_type": "code",
   "execution_count": 44,
   "metadata": {},
   "outputs": [],
   "source": [
    "## the follwoing function is more general which can deal with multiple dimensions\n",
    "\n",
    "def to_sequences_MD (seq_size,obs,xcols,ycol,step=1):\n",
    "    x = []\n",
    "    y = []\n",
    "    y_time = []\n",
    "    for i in range(0,len(obs)-SEQUENCE_SIZE,step):\n",
    "        '''\n",
    "        seq_size: the number of observations will be used for training\n",
    "        step: the change of observations to form a new training data\n",
    "        obs: the whole dataset\n",
    "        '''\n",
    "        #print(i)\n",
    "        window = obs[i:(i+SEQUENCE_SIZE)][xcols]\n",
    "        after_window = obs[(i+SEQUENCE_SIZE -1):(i+SEQUENCE_SIZE)][ycol]\n",
    "        #window = [[x] for x in window]\n",
    "        time_index = after_window.index.values[0]\n",
    "        win_values = window.values\n",
    "        #print(\"{} - {}\".format(window,after_window))\n",
    "        x.append(win_values)\n",
    "        y.append(after_window.values)\n",
    "        y_time.append(time_index)\n",
    "        \n",
    "    return np.array(x),np.array(y),y_time"
   ]
  },
  {
   "cell_type": "code",
   "execution_count": 39,
   "metadata": {},
   "outputs": [
    {
     "data": {
      "text/plain": [
       "209"
      ]
     },
     "execution_count": 39,
     "metadata": {},
     "output_type": "execute_result"
    }
   ],
   "source": [
    "df = df1[df1['pixel'].isin(sel_pixels) ]\n",
    "df['pixel'].nunique()"
   ]
  },
  {
   "cell_type": "code",
   "execution_count": 40,
   "metadata": {},
   "outputs": [],
   "source": [
    "## our target is ndvi, the ndvi and lai will used for external variables\n",
    "\n",
    "##about 20 years data and 0.8 for training, thus set date 2016\n",
    "\n",
    "SEQUENCE_SIZE = 10\n",
    "sel_date= \"2016-01-01\"\n",
    "val_pixel = df['pixel'].nunique() - 9 ##hold out data threshold threshold"
   ]
  },
  {
   "cell_type": "code",
   "execution_count": 41,
   "metadata": {},
   "outputs": [],
   "source": [
    "pixel_thres = sel_pixels[val_pixel]"
   ]
  },
  {
   "cell_type": "code",
   "execution_count": 64,
   "metadata": {},
   "outputs": [],
   "source": [
    "xcol = ['evi']\n",
    "ycol = ['evi']"
   ]
  },
  {
   "cell_type": "markdown",
   "metadata": {},
   "source": [
    "### train and test split"
   ]
  },
  {
   "cell_type": "code",
   "execution_count": 65,
   "metadata": {},
   "outputs": [
    {
     "name": "stdout",
     "output_type": "stream",
     "text": [
      "Shape of x training set: (67335, 10, 1)\n",
      "Shape of y training set: (67335, 1)\n",
      "Shape of x hold out set: (2680, 10, 1)\n",
      "Shape of y hold out set: (2680, 1)\n"
     ]
    }
   ],
   "source": [
    "df_x_train =[]\n",
    "df_x_test =[]\n",
    "df_y_train =[]\n",
    "df_y_test =[]\n",
    "\n",
    "val_x_train =[]\n",
    "val_x_test =[]\n",
    "val_y_train =[]\n",
    "val_y_test =[]\n",
    "\n",
    "for pixel in sel_pixels:\n",
    "    \n",
    "    sub_df = df[df['pixel'] == pixel]\n",
    "    sub_train = sub_df[sub_df.index < sel_date]\n",
    "    sub_test = sub_df[sub_df.index >= sel_date ]\n",
    "    \n",
    "    x_train,y_train,train_time = to_sequences_MD(SEQUENCE_SIZE,sub_train, xcols =xcol,ycol=ycol)\n",
    "    x_test,y_test,test_time = to_sequences_MD(SEQUENCE_SIZE,sub_test, xcols =xcol,ycol=ycol)\n",
    "    \n",
    "    if pixel <= pixel_thres:\n",
    "        \n",
    "        df_x_train.append(x_train)\n",
    "        df_x_test.append(x_test)\n",
    "    \n",
    "        df_y_train.append(y_train)\n",
    "        df_y_test.append(y_test)\n",
    "        \n",
    "    else:\n",
    "        val_x_train.append(x_train)\n",
    "        val_x_test.append(x_test)\n",
    "    \n",
    "        val_y_train.append(y_train)\n",
    "        val_y_test.append(y_test)\n",
    "    \n",
    "## convert to np array\n",
    "\n",
    "df_x_train1 = np.asarray(df_x_train).reshape(-1,SEQUENCE_SIZE,len(xcol))\n",
    "df_x_test1 = np.asarray(df_x_test).reshape(-1,SEQUENCE_SIZE,len(xcol))\n",
    "\n",
    "df_y_train1 = np.asarray(df_y_train).reshape(-1,1)\n",
    "df_y_test1 = np.asarray(df_y_test).reshape(-1,1)\n",
    "\n",
    "##hold out data\n",
    "val_x_train1 = np.asarray(val_x_train).reshape(-1,SEQUENCE_SIZE,len(xcol))\n",
    "val_x_test1 = np.asarray(val_x_test).reshape(-1,SEQUENCE_SIZE,len(xcol))\n",
    "\n",
    "val_y_train1 = np.asarray(val_y_train).reshape(-1,1)\n",
    "val_y_test1 = np.asarray(val_y_test).reshape(-1,1)\n",
    "\n",
    "\n",
    "\n",
    "print(\"Shape of x training set: {}\".format(df_x_train1.shape))\n",
    "print(\"Shape of y training set: {}\".format(df_y_train1.shape))\n",
    "\n",
    "\n",
    "print(\"Shape of x hold out set: {}\".format(val_x_train1.shape))\n",
    "print(\"Shape of y hold out set: {}\".format(val_y_train1.shape))"
   ]
  },
  {
   "cell_type": "markdown",
   "metadata": {},
   "source": [
    "### Model building - 1D"
   ]
  },
  {
   "cell_type": "code",
   "execution_count": 77,
   "metadata": {},
   "outputs": [
    {
     "name": "stdout",
     "output_type": "stream",
     "text": [
      "Train...\n",
      "Train on 67335 samples, validate on 16482 samples\n",
      "Epoch 1/30\n",
      "67335/67335 - 39s - loss: 0.0070 - val_loss: 0.0111\n",
      "Epoch 2/30\n",
      "67335/67335 - 34s - loss: 0.0040 - val_loss: 0.0128\n",
      "Epoch 3/30\n",
      "67335/67335 - 34s - loss: 0.0036 - val_loss: 0.0133\n",
      "Epoch 4/30\n",
      "67335/67335 - 34s - loss: 0.0033 - val_loss: 0.0154\n",
      "Epoch 5/30\n",
      "67335/67335 - 34s - loss: 0.0028 - val_loss: 0.0115\n",
      "Epoch 6/30\n",
      "67335/67335 - 34s - loss: 0.0028 - val_loss: 0.0120\n",
      "Epoch 7/30\n",
      "67335/67335 - 34s - loss: 0.0027 - val_loss: 0.0135\n",
      "Epoch 8/30\n",
      "67335/67335 - 34s - loss: 0.0026 - val_loss: 0.0140\n",
      "Epoch 9/30\n",
      "67335/67335 - 35s - loss: 0.0026 - val_loss: 0.0132\n",
      "Epoch 10/30\n",
      "67335/67335 - 34s - loss: 0.0025 - val_loss: 0.0177\n",
      "Epoch 11/30\n",
      "67335/67335 - 35s - loss: 0.0025 - val_loss: 0.0135\n",
      "Epoch 12/30\n",
      "67335/67335 - 34s - loss: 0.0024 - val_loss: 0.0166\n",
      "Epoch 13/30\n",
      "67335/67335 - 34s - loss: 0.0025 - val_loss: 0.0130\n",
      "Epoch 14/30\n",
      "67335/67335 - 34s - loss: 0.0024 - val_loss: 0.0148\n",
      "Epoch 15/30\n",
      "67335/67335 - 34s - loss: 0.0024 - val_loss: 0.0123\n",
      "Epoch 16/30\n",
      "67335/67335 - 34s - loss: 0.0023 - val_loss: 0.0108\n",
      "Epoch 17/30\n",
      "67335/67335 - 34s - loss: 0.0023 - val_loss: 0.0114\n",
      "Epoch 18/30\n",
      "67335/67335 - 34s - loss: 0.0023 - val_loss: 0.0131\n",
      "Epoch 19/30\n",
      "67335/67335 - 34s - loss: 0.0024 - val_loss: 0.0140\n",
      "Epoch 20/30\n",
      "67335/67335 - 34s - loss: 0.0023 - val_loss: 0.0139\n",
      "Epoch 21/30\n",
      "67335/67335 - 34s - loss: 0.0023 - val_loss: 0.0115\n",
      "Epoch 22/30\n",
      "67335/67335 - 34s - loss: 0.0023 - val_loss: 0.0121\n",
      "Epoch 23/30\n",
      "67335/67335 - 34s - loss: 0.0022 - val_loss: 0.0122\n",
      "Epoch 24/30\n",
      "67335/67335 - 34s - loss: 0.0023 - val_loss: 0.0118\n",
      "Epoch 25/30\n",
      "67335/67335 - 34s - loss: 0.0022 - val_loss: 0.0114\n",
      "Epoch 26/30\n",
      "67335/67335 - 34s - loss: 0.0022 - val_loss: 0.0126\n",
      "Epoch 27/30\n",
      "67335/67335 - 34s - loss: 0.0022 - val_loss: 0.0116\n",
      "Epoch 28/30\n",
      "67335/67335 - 34s - loss: 0.0022 - val_loss: 0.0119\n",
      "Epoch 29/30\n",
      "67335/67335 - 34s - loss: 0.0022 - val_loss: 0.0130\n",
      "Epoch 30/30\n",
      "67335/67335 - 34s - loss: 0.0022 - val_loss: 0.0123\n"
     ]
    },
    {
     "data": {
      "text/plain": [
       "<tensorflow.python.keras.callbacks.History at 0x263fa72cac8>"
      ]
     },
     "execution_count": 77,
     "metadata": {},
     "output_type": "execute_result"
    }
   ],
   "source": [
    "model = Sequential()\n",
    "model.add(LSTM(128, dropout=0.3, return_sequences= True,input_shape=(None, 1)))\n",
    "model.add(LSTM(32, return_sequences=False, dropout=0.3))\n",
    "model.add(Dense(50))\n",
    "model.add(Dense(1))\n",
    "model.compile(loss='mean_squared_error', optimizer='adam')\n",
    "monitor = EarlyStopping(monitor='val_loss', min_delta=1e-3, patience=15, verbose=1, mode='auto', restore_best_weights=True)\n",
    "print('Train...')\n",
    "\n",
    "model.fit(df_x_train1,df_y_train1,validation_data=(df_x_test1,df_y_test1),\n",
    "          callbacks=[monitor],\n",
    "          verbose=2,epochs=30)"
   ]
  },
  {
   "cell_type": "code",
   "execution_count": 78,
   "metadata": {},
   "outputs": [
    {
     "name": "stdout",
     "output_type": "stream",
     "text": [
      "Score (RMSE): 0.13040590549737704\n"
     ]
    }
   ],
   "source": [
    "from sklearn import metrics\n",
    "\n",
    "pred = model.predict(val_x_train1)\n",
    "score = np.sqrt(metrics.mean_squared_error(pred,val_y_train1))\n",
    "print(\"Score (RMSE): {}\".format(score))"
   ]
  },
  {
   "cell_type": "code",
   "execution_count": 73,
   "metadata": {},
   "outputs": [],
   "source": [
    "# we have 8 pixels in hold out data. each one will have 335 time interval"
   ]
  },
  {
   "cell_type": "code",
   "execution_count": 79,
   "metadata": {},
   "outputs": [],
   "source": [
    "output = pd.DataFrame({\"pred\":pred.ravel(),\n",
    "              \"test\":val_y_train1.ravel()})"
   ]
  },
  {
   "cell_type": "code",
   "execution_count": null,
   "metadata": {},
   "outputs": [],
   "source": []
  },
  {
   "cell_type": "code",
   "execution_count": 80,
   "metadata": {},
   "outputs": [],
   "source": [
    "output1 = output.loc[:335,]"
   ]
  },
  {
   "cell_type": "code",
   "execution_count": 81,
   "metadata": {},
   "outputs": [
    {
     "data": {
      "text/plain": [
       "<matplotlib.axes._subplots.AxesSubplot at 0x263851c6048>"
      ]
     },
     "execution_count": 81,
     "metadata": {},
     "output_type": "execute_result"
    },
    {
     "data": {
      "image/png": "[encoded data removed]",
      "text/plain": [
       "<Figure size 432x288 with 1 Axes>"
      ]
     },
     "metadata": {
      "needs_background": "light"
     },
     "output_type": "display_data"
    }
   ],
   "source": [
    "output1.plot()"
   ]
  },
  {
   "cell_type": "code",
   "execution_count": 58,
   "metadata": {},
   "outputs": [],
   "source": [
    "pixel=1"
   ]
  },
  {
   "cell_type": "code",
   "execution_count": 59,
   "metadata": {},
   "outputs": [],
   "source": [
    "sub_df1 = df[df['pixel'] == pixel]\n",
    "sub_train1 = sub_df1[sub_df1.index < sel_date]"
   ]
  },
  {
   "cell_type": "code",
   "execution_count": 63,
   "metadata": {},
   "outputs": [
    {
     "data": {
      "text/plain": [
       "(345, 9)"
      ]
     },
     "execution_count": 63,
     "metadata": {},
     "output_type": "execute_result"
    }
   ],
   "source": [
    "sub_train1.shape"
   ]
  },
  {
   "cell_type": "markdown",
   "metadata": {},
   "source": [
    "## 2.2 Predicition on data quality using NDVI and EVI - regression"
   ]
  },
  {
   "cell_type": "code",
   "execution_count": 87,
   "metadata": {},
   "outputs": [
    {
     "name": "stderr",
     "output_type": "stream",
     "text": [
      "C:\\Users\\tank\\Anaconda3\\envs\\tensorflow\\lib\\site-packages\\ipykernel_launcher.py:4: SettingWithCopyWarning: \n",
      "A value is trying to be set on a copy of a slice from a DataFrame\n",
      "\n",
      "See the caveats in the documentation: https://pandas.pydata.org/pandas-docs/stable/user_guide/indexing.html#returning-a-view-versus-a-copy\n",
      "  after removing the cwd from sys.path.\n"
     ]
    }
   ],
   "source": [
    "##Based on previous exploration, we know that pixel = 464 is best location for us to explore\n",
    "\n",
    "df2 = dat2[dat2['pixel'] == sel_pixel[0]]\n",
    "df2.sort_index(inplace = True)"
   ]
  },
  {
   "cell_type": "code",
   "execution_count": 70,
   "metadata": {},
   "outputs": [
    {
     "data": {
      "text/html": [
       "<div>\n",
       "<style scoped>\n",
       "    .dataframe tbody tr th:only-of-type {\n",
       "        vertical-align: middle;\n",
       "    }\n",
       "\n",
       "    .dataframe tbody tr th {\n",
       "        vertical-align: top;\n",
       "    }\n",
       "\n",
       "    .dataframe thead th {\n",
       "        text-align: right;\n",
       "    }\n",
       "</style>\n",
       "<table border=\"1\" class=\"dataframe\">\n",
       "  <thead>\n",
       "    <tr style=\"text-align: right;\">\n",
       "      <th></th>\n",
       "      <th>pixel</th>\n",
       "      <th>year</th>\n",
       "      <th>ndvi</th>\n",
       "      <th>evi</th>\n",
       "      <th>qa</th>\n",
       "      <th>land_cover</th>\n",
       "      <th>lc_time</th>\n",
       "    </tr>\n",
       "    <tr>\n",
       "      <th>time</th>\n",
       "      <th></th>\n",
       "      <th></th>\n",
       "      <th></th>\n",
       "      <th></th>\n",
       "      <th></th>\n",
       "      <th></th>\n",
       "      <th></th>\n",
       "    </tr>\n",
       "  </thead>\n",
       "  <tbody>\n",
       "    <tr>\n",
       "      <th>2001-01-01</th>\n",
       "      <td>464</td>\n",
       "      <td>2001</td>\n",
       "      <td>0.510641</td>\n",
       "      <td>0.287295</td>\n",
       "      <td>1.0</td>\n",
       "      <td>8.0</td>\n",
       "      <td>2001-01-01</td>\n",
       "    </tr>\n",
       "    <tr>\n",
       "      <th>2001-01-17</th>\n",
       "      <td>464</td>\n",
       "      <td>2001</td>\n",
       "      <td>0.457637</td>\n",
       "      <td>0.162410</td>\n",
       "      <td>1.0</td>\n",
       "      <td>8.0</td>\n",
       "      <td>2001-01-01</td>\n",
       "    </tr>\n",
       "    <tr>\n",
       "      <th>2001-02-02</th>\n",
       "      <td>464</td>\n",
       "      <td>2001</td>\n",
       "      <td>0.553835</td>\n",
       "      <td>0.315182</td>\n",
       "      <td>0.0</td>\n",
       "      <td>8.0</td>\n",
       "      <td>2001-01-01</td>\n",
       "    </tr>\n",
       "    <tr>\n",
       "      <th>2001-02-18</th>\n",
       "      <td>464</td>\n",
       "      <td>2001</td>\n",
       "      <td>0.079125</td>\n",
       "      <td>0.101180</td>\n",
       "      <td>2.0</td>\n",
       "      <td>8.0</td>\n",
       "      <td>2001-01-01</td>\n",
       "    </tr>\n",
       "    <tr>\n",
       "      <th>2001-03-06</th>\n",
       "      <td>464</td>\n",
       "      <td>2001</td>\n",
       "      <td>0.522178</td>\n",
       "      <td>0.280573</td>\n",
       "      <td>0.0</td>\n",
       "      <td>8.0</td>\n",
       "      <td>2001-01-01</td>\n",
       "    </tr>\n",
       "  </tbody>\n",
       "</table>\n",
       "</div>"
      ],
      "text/plain": [
       "            pixel  year      ndvi       evi   qa  land_cover     lc_time\n",
       "time                                                                    \n",
       "2001-01-01    464  2001  0.510641  0.287295  1.0         8.0  2001-01-01\n",
       "2001-01-17    464  2001  0.457637  0.162410  1.0         8.0  2001-01-01\n",
       "2001-02-02    464  2001  0.553835  0.315182  0.0         8.0  2001-01-01\n",
       "2001-02-18    464  2001  0.079125  0.101180  2.0         8.0  2001-01-01\n",
       "2001-03-06    464  2001  0.522178  0.280573  0.0         8.0  2001-01-01"
      ]
     },
     "execution_count": 70,
     "metadata": {},
     "output_type": "execute_result"
    }
   ],
   "source": [
    "df2.head()"
   ]
  },
  {
   "cell_type": "markdown",
   "metadata": {},
   "source": [
    "## Data preparation"
   ]
  },
  {
   "cell_type": "code",
   "execution_count": 105,
   "metadata": {},
   "outputs": [],
   "source": [
    "##if our data is >2 dimension, we are interested in predicting the \n",
    "def to_sequences_MD (seq_size,obs,xcols,ycol,step=1):\n",
    "    x = []\n",
    "    y = []\n",
    "    y_time = []\n",
    "    for i in range(0,len(obs)-SEQUENCE_SIZE,step):\n",
    "        '''\n",
    "        seq_size: the number of observations will be used for training\n",
    "        step: the change of observations to form a new training data\n",
    "        obs: the whole dataset\n",
    "        '''\n",
    "        #print(i)\n",
    "        window = obs[i:(i+SEQUENCE_SIZE)][xcols]\n",
    "        after_window = obs[(i+SEQUENCE_SIZE -1):(i+SEQUENCE_SIZE)][ycol]\n",
    "        #window = [[x] for x in window]\n",
    "        time_index = after_window.index.values[0]\n",
    "        win_values = window.values\n",
    "        #print(\"{} - {}\".format(window,after_window))\n",
    "        x.append(win_values)\n",
    "        y.append(after_window.values)\n",
    "        y_time.append(time_index)\n",
    "        \n",
    "    return np.array(x),np.array(y),y_time"
   ]
  },
  {
   "cell_type": "code",
   "execution_count": 98,
   "metadata": {},
   "outputs": [
    {
     "data": {
      "text/html": [
       "<div>\n",
       "<style scoped>\n",
       "    .dataframe tbody tr th:only-of-type {\n",
       "        vertical-align: middle;\n",
       "    }\n",
       "\n",
       "    .dataframe tbody tr th {\n",
       "        vertical-align: top;\n",
       "    }\n",
       "\n",
       "    .dataframe thead th {\n",
       "        text-align: right;\n",
       "    }\n",
       "</style>\n",
       "<table border=\"1\" class=\"dataframe\">\n",
       "  <thead>\n",
       "    <tr style=\"text-align: right;\">\n",
       "      <th></th>\n",
       "      <th>pixel</th>\n",
       "      <th>year</th>\n",
       "      <th>ndvi</th>\n",
       "      <th>evi</th>\n",
       "      <th>qa</th>\n",
       "      <th>land_cover</th>\n",
       "      <th>lc_time</th>\n",
       "    </tr>\n",
       "    <tr>\n",
       "      <th>time</th>\n",
       "      <th></th>\n",
       "      <th></th>\n",
       "      <th></th>\n",
       "      <th></th>\n",
       "      <th></th>\n",
       "      <th></th>\n",
       "      <th></th>\n",
       "    </tr>\n",
       "  </thead>\n",
       "  <tbody>\n",
       "    <tr>\n",
       "      <th>2001-01-01</th>\n",
       "      <td>464</td>\n",
       "      <td>2001</td>\n",
       "      <td>0.510641</td>\n",
       "      <td>0.287295</td>\n",
       "      <td>1.0</td>\n",
       "      <td>8.0</td>\n",
       "      <td>2001-01-01</td>\n",
       "    </tr>\n",
       "    <tr>\n",
       "      <th>2001-01-17</th>\n",
       "      <td>464</td>\n",
       "      <td>2001</td>\n",
       "      <td>0.457637</td>\n",
       "      <td>0.162410</td>\n",
       "      <td>1.0</td>\n",
       "      <td>8.0</td>\n",
       "      <td>2001-01-01</td>\n",
       "    </tr>\n",
       "    <tr>\n",
       "      <th>2001-02-02</th>\n",
       "      <td>464</td>\n",
       "      <td>2001</td>\n",
       "      <td>0.553835</td>\n",
       "      <td>0.315182</td>\n",
       "      <td>0.0</td>\n",
       "      <td>8.0</td>\n",
       "      <td>2001-01-01</td>\n",
       "    </tr>\n",
       "    <tr>\n",
       "      <th>2001-02-18</th>\n",
       "      <td>464</td>\n",
       "      <td>2001</td>\n",
       "      <td>0.079125</td>\n",
       "      <td>0.101180</td>\n",
       "      <td>2.0</td>\n",
       "      <td>8.0</td>\n",
       "      <td>2001-01-01</td>\n",
       "    </tr>\n",
       "    <tr>\n",
       "      <th>2001-03-06</th>\n",
       "      <td>464</td>\n",
       "      <td>2001</td>\n",
       "      <td>0.522178</td>\n",
       "      <td>0.280573</td>\n",
       "      <td>0.0</td>\n",
       "      <td>8.0</td>\n",
       "      <td>2001-01-01</td>\n",
       "    </tr>\n",
       "    <tr>\n",
       "      <th>2001-03-22</th>\n",
       "      <td>464</td>\n",
       "      <td>2001</td>\n",
       "      <td>0.570117</td>\n",
       "      <td>0.342850</td>\n",
       "      <td>0.0</td>\n",
       "      <td>8.0</td>\n",
       "      <td>2001-01-01</td>\n",
       "    </tr>\n",
       "    <tr>\n",
       "      <th>2001-04-07</th>\n",
       "      <td>464</td>\n",
       "      <td>2001</td>\n",
       "      <td>0.648065</td>\n",
       "      <td>0.475009</td>\n",
       "      <td>3.0</td>\n",
       "      <td>8.0</td>\n",
       "      <td>2001-01-01</td>\n",
       "    </tr>\n",
       "    <tr>\n",
       "      <th>2001-04-23</th>\n",
       "      <td>464</td>\n",
       "      <td>2001</td>\n",
       "      <td>0.668908</td>\n",
       "      <td>0.390804</td>\n",
       "      <td>1.0</td>\n",
       "      <td>8.0</td>\n",
       "      <td>2001-01-01</td>\n",
       "    </tr>\n",
       "    <tr>\n",
       "      <th>2001-05-09</th>\n",
       "      <td>464</td>\n",
       "      <td>2001</td>\n",
       "      <td>0.487433</td>\n",
       "      <td>0.284394</td>\n",
       "      <td>0.0</td>\n",
       "      <td>8.0</td>\n",
       "      <td>2001-01-01</td>\n",
       "    </tr>\n",
       "    <tr>\n",
       "      <th>2001-05-25</th>\n",
       "      <td>464</td>\n",
       "      <td>2001</td>\n",
       "      <td>0.540597</td>\n",
       "      <td>0.359430</td>\n",
       "      <td>0.0</td>\n",
       "      <td>8.0</td>\n",
       "      <td>2001-01-01</td>\n",
       "    </tr>\n",
       "    <tr>\n",
       "      <th>2001-06-10</th>\n",
       "      <td>464</td>\n",
       "      <td>2001</td>\n",
       "      <td>0.703998</td>\n",
       "      <td>0.471850</td>\n",
       "      <td>1.0</td>\n",
       "      <td>8.0</td>\n",
       "      <td>2001-01-01</td>\n",
       "    </tr>\n",
       "  </tbody>\n",
       "</table>\n",
       "</div>"
      ],
      "text/plain": [
       "            pixel  year      ndvi       evi   qa  land_cover     lc_time\n",
       "time                                                                    \n",
       "2001-01-01    464  2001  0.510641  0.287295  1.0         8.0  2001-01-01\n",
       "2001-01-17    464  2001  0.457637  0.162410  1.0         8.0  2001-01-01\n",
       "2001-02-02    464  2001  0.553835  0.315182  0.0         8.0  2001-01-01\n",
       "2001-02-18    464  2001  0.079125  0.101180  2.0         8.0  2001-01-01\n",
       "2001-03-06    464  2001  0.522178  0.280573  0.0         8.0  2001-01-01\n",
       "2001-03-22    464  2001  0.570117  0.342850  0.0         8.0  2001-01-01\n",
       "2001-04-07    464  2001  0.648065  0.475009  3.0         8.0  2001-01-01\n",
       "2001-04-23    464  2001  0.668908  0.390804  1.0         8.0  2001-01-01\n",
       "2001-05-09    464  2001  0.487433  0.284394  0.0         8.0  2001-01-01\n",
       "2001-05-25    464  2001  0.540597  0.359430  0.0         8.0  2001-01-01\n",
       "2001-06-10    464  2001  0.703998  0.471850  1.0         8.0  2001-01-01"
      ]
     },
     "execution_count": 98,
     "metadata": {},
     "output_type": "execute_result"
    }
   ],
   "source": [
    "df_train2.head(11)"
   ]
  },
  {
   "cell_type": "code",
   "execution_count": 103,
   "metadata": {},
   "outputs": [],
   "source": [
    "after_win =df_train2[9:10]['qa']"
   ]
  },
  {
   "cell_type": "code",
   "execution_count": 104,
   "metadata": {},
   "outputs": [
    {
     "data": {
      "text/plain": [
       "'2001-05-25'"
      ]
     },
     "execution_count": 104,
     "metadata": {},
     "output_type": "execute_result"
    }
   ],
   "source": [
    "after_win.index.values[0]"
   ]
  },
  {
   "cell_type": "markdown",
   "metadata": {},
   "source": [
    "### Train and test split"
   ]
  },
  {
   "cell_type": "code",
   "execution_count": 106,
   "metadata": {},
   "outputs": [],
   "source": [
    "##about 20 years data and 0.8 for training\n",
    "sel_date= \"2016-01-01\"\n",
    "df_train2 = df2[df2.index < sel_date ]\n",
    "df_test2 = df2[df2.index >= sel_date ]"
   ]
  },
  {
   "cell_type": "code",
   "execution_count": 107,
   "metadata": {},
   "outputs": [
    {
     "name": "stdout",
     "output_type": "stream",
     "text": [
      "Shape of training set: (335, 10, 2)\n",
      "Shape of test set: (82, 10, 2)\n"
     ]
    }
   ],
   "source": [
    "SEQUENCE_SIZE = 10\n",
    "x_train2,y_train2,train_index = to_sequences_MD(SEQUENCE_SIZE,df_train2,xcols=['ndvi','evi'],ycol = ['qa'])\n",
    "x_test2,y_test2,test_index = to_sequences_MD(SEQUENCE_SIZE,df_test2,xcols=['ndvi','evi'],ycol = ['qa'])\n",
    "\n",
    "print(\"Shape of training set: {}\".format(x_train2.shape))\n",
    "print(\"Shape of test set: {}\".format(x_test2.shape))"
   ]
  },
  {
   "cell_type": "code",
   "execution_count": 84,
   "metadata": {},
   "outputs": [],
   "source": [
    "y_train21 = y_train2.reshape((y_train2.shape[0],))\n",
    "y_test21 = y_test2.reshape((y_test2.shape[0],))"
   ]
  },
  {
   "cell_type": "code",
   "execution_count": 86,
   "metadata": {},
   "outputs": [
    {
     "name": "stdout",
     "output_type": "stream",
     "text": [
      "Train...\n",
      "Train on 335 samples, validate on 82 samples\n",
      "Epoch 1/1000\n",
      "335/335 - 3s - loss: 0.8810 - val_loss: 0.7251\n",
      "Epoch 2/1000\n",
      "335/335 - 0s - loss: 0.6879 - val_loss: 0.7244\n",
      "Epoch 3/1000\n",
      "335/335 - 0s - loss: 0.6673 - val_loss: 0.7378\n",
      "Epoch 4/1000\n",
      "335/335 - 0s - loss: 0.6629 - val_loss: 0.7236\n",
      "Epoch 5/1000\n",
      "335/335 - 0s - loss: 0.6529 - val_loss: 0.7191\n",
      "Epoch 6/1000\n",
      "335/335 - 0s - loss: 0.6455 - val_loss: 0.7170\n",
      "Epoch 7/1000\n",
      "335/335 - 0s - loss: 0.6397 - val_loss: 0.7155\n",
      "Epoch 8/1000\n",
      "335/335 - 0s - loss: 0.6314 - val_loss: 0.7101\n",
      "Epoch 9/1000\n",
      "335/335 - 0s - loss: 0.6183 - val_loss: 0.7072\n",
      "Epoch 10/1000\n",
      "335/335 - 0s - loss: 0.6055 - val_loss: 0.6992\n",
      "Epoch 11/1000\n",
      "335/335 - 0s - loss: 0.6068 - val_loss: 0.7102\n",
      "Epoch 12/1000\n",
      "335/335 - 0s - loss: 0.5895 - val_loss: 0.6929\n",
      "Epoch 13/1000\n",
      "335/335 - 0s - loss: 0.5844 - val_loss: 0.6950\n",
      "Epoch 14/1000\n",
      "335/335 - 0s - loss: 0.5696 - val_loss: 0.6925\n",
      "Epoch 15/1000\n",
      "335/335 - 0s - loss: 0.5717 - val_loss: 0.7211\n",
      "Epoch 16/1000\n",
      "335/335 - 0s - loss: 0.5620 - val_loss: 0.7087\n",
      "Epoch 17/1000\n",
      "Restoring model weights from the end of the best epoch.\n",
      "335/335 - 0s - loss: 0.5618 - val_loss: 0.6974\n",
      "Epoch 00017: early stopping\n"
     ]
    },
    {
     "data": {
      "text/plain": [
       "<tensorflow.python.keras.callbacks.History at 0x1d6cc9c1888>"
      ]
     },
     "execution_count": 86,
     "metadata": {},
     "output_type": "execute_result"
    }
   ],
   "source": [
    "model = Sequential()\n",
    "model.add(LSTM(64, dropout=0.0, recurrent_dropout=0.0,input_shape=(None, 2)))##here also need to change\n",
    "model.add(Dense(32))\n",
    "model.add(Dense(1))\n",
    "model.compile(loss='mean_squared_error', optimizer='adam')\n",
    "monitor = EarlyStopping(monitor='val_loss', min_delta=1e-3, patience=5, verbose=1, mode='auto', restore_best_weights=True)\n",
    "print('Train...')\n",
    "\n",
    "model.fit(x_train2,y_train21,validation_data=(x_test2,y_test21),callbacks=[monitor],verbose=2,epochs=1000)"
   ]
  },
  {
   "cell_type": "code",
   "execution_count": 127,
   "metadata": {},
   "outputs": [
    {
     "name": "stdout",
     "output_type": "stream",
     "text": [
      "Score (RMSE): 0.832413255469476\n"
     ]
    }
   ],
   "source": [
    "from sklearn import metrics\n",
    "from sklearn.metrics import confusion_matrix\n",
    "from sklearn.metrics import accuracy_score\n",
    "pred2 = model.predict(x_test2)\n",
    "score = np.sqrt(metrics.mean_squared_error(pred2,y_test21))\n",
    "print(\"Score (RMSE): {}\".format(score))"
   ]
  },
  {
   "cell_type": "code",
   "execution_count": 113,
   "metadata": {},
   "outputs": [],
   "source": [
    "### as we know that the good quality points should be within [0,1], we can classify them into good or not good\n",
    "output = pd.DataFrame({\"pred\":pred2.ravel(),\n",
    "              \"test\":y_test21.ravel()},index = test_index)\n"
   ]
  },
  {
   "cell_type": "code",
   "execution_count": 114,
   "metadata": {},
   "outputs": [
    {
     "data": {
      "text/html": [
       "<div>\n",
       "<style scoped>\n",
       "    .dataframe tbody tr th:only-of-type {\n",
       "        vertical-align: middle;\n",
       "    }\n",
       "\n",
       "    .dataframe tbody tr th {\n",
       "        vertical-align: top;\n",
       "    }\n",
       "\n",
       "    .dataframe thead th {\n",
       "        text-align: right;\n",
       "    }\n",
       "</style>\n",
       "<table border=\"1\" class=\"dataframe\">\n",
       "  <thead>\n",
       "    <tr style=\"text-align: right;\">\n",
       "      <th></th>\n",
       "      <th>pred</th>\n",
       "      <th>test</th>\n",
       "    </tr>\n",
       "  </thead>\n",
       "  <tbody>\n",
       "    <tr>\n",
       "      <th>2016-05-24</th>\n",
       "      <td>0.731439</td>\n",
       "      <td>1.0</td>\n",
       "    </tr>\n",
       "    <tr>\n",
       "      <th>2016-06-09</th>\n",
       "      <td>0.666747</td>\n",
       "      <td>3.0</td>\n",
       "    </tr>\n",
       "    <tr>\n",
       "      <th>2016-06-25</th>\n",
       "      <td>0.578940</td>\n",
       "      <td>1.0</td>\n",
       "    </tr>\n",
       "    <tr>\n",
       "      <th>2016-07-11</th>\n",
       "      <td>0.529566</td>\n",
       "      <td>0.0</td>\n",
       "    </tr>\n",
       "    <tr>\n",
       "      <th>2016-07-27</th>\n",
       "      <td>0.584527</td>\n",
       "      <td>3.0</td>\n",
       "    </tr>\n",
       "  </tbody>\n",
       "</table>\n",
       "</div>"
      ],
      "text/plain": [
       "                pred  test\n",
       "2016-05-24  0.731439   1.0\n",
       "2016-06-09  0.666747   3.0\n",
       "2016-06-25  0.578940   1.0\n",
       "2016-07-11  0.529566   0.0\n",
       "2016-07-27  0.584527   3.0"
      ]
     },
     "execution_count": 114,
     "metadata": {},
     "output_type": "execute_result"
    }
   ],
   "source": [
    "output.head()"
   ]
  },
  {
   "cell_type": "code",
   "execution_count": 117,
   "metadata": {},
   "outputs": [
    {
     "data": {
      "text/plain": [
       "-6"
      ]
     },
     "execution_count": 117,
     "metadata": {},
     "output_type": "execute_result"
    }
   ],
   "source": [
    "min(dat2['qa'].min(), -0.0003)"
   ]
  },
  {
   "cell_type": "code",
   "execution_count": 120,
   "metadata": {},
   "outputs": [],
   "source": [
    "bins = [min(dat2['qa'].min(), -0.0003),1.0001,dat2['qa'].max()]\n",
    "names = ['yes','no']\n",
    "\n",
    "output['pred_class'] = pd.cut(output['pred'],bins,labels = names)\n",
    "output['test_class'] = pd.cut(output['test'],bins,labels = names)"
   ]
  },
  {
   "cell_type": "code",
   "execution_count": 142,
   "metadata": {},
   "outputs": [],
   "source": [
    "cm = confusion_matrix(output['test_class'], output['pred_class'],labels=['yes','no'])"
   ]
  },
  {
   "cell_type": "code",
   "execution_count": 145,
   "metadata": {},
   "outputs": [
    {
     "data": {
      "text/plain": [
       "array([[75,  0],\n",
       "       [ 7,  0]], dtype=int64)"
      ]
     },
     "execution_count": 145,
     "metadata": {},
     "output_type": "execute_result"
    }
   ],
   "source": [
    "cm"
   ]
  },
  {
   "cell_type": "code",
   "execution_count": 131,
   "metadata": {},
   "outputs": [],
   "source": [
    "pred_class = pd.get_dummies(output['pred_class'])"
   ]
  },
  {
   "cell_type": "code",
   "execution_count": 138,
   "metadata": {},
   "outputs": [
    {
     "name": "stdout",
     "output_type": "stream",
     "text": [
      "Accuracy: 0.9146341463414634\n"
     ]
    }
   ],
   "source": [
    "correct = accuracy_score(output['pred_class'],output['test_class'])\n",
    "print(f\"Accuracy: {correct}\")"
   ]
  },
  {
   "cell_type": "markdown",
   "metadata": {},
   "source": [
    "### Summary\n",
    "\n",
    "We can see we can only can detect good quality, but caanot predict low quality.\n",
    "\n",
    "There are several reasons for this:\n",
    "\n",
    "    1 imblance data\n",
    "    \n",
    "    2 not enough data for LSTM\n",
    "    \n",
    "    3 There is no connection between the ndvi,evi and quality. We cannot assess the value quality based on these variables\n",
    "    "
   ]
  },
  {
   "cell_type": "markdown",
   "metadata": {},
   "source": [
    "## 2.3 Predicition on data quality using NDVI and EVI - classification\n",
    "Classify y (qa) into yes (good quality) and no (low quality)"
   ]
  },
  {
   "cell_type": "code",
   "execution_count": 146,
   "metadata": {},
   "outputs": [
    {
     "name": "stderr",
     "output_type": "stream",
     "text": [
      "C:\\Users\\tank\\Anaconda3\\envs\\tensorflow\\lib\\site-packages\\ipykernel_launcher.py:2: SettingWithCopyWarning: \n",
      "A value is trying to be set on a copy of a slice from a DataFrame\n",
      "\n",
      "See the caveats in the documentation: https://pandas.pydata.org/pandas-docs/stable/user_guide/indexing.html#returning-a-view-versus-a-copy\n",
      "  \n"
     ]
    }
   ],
   "source": [
    "df3 = dat2[dat2['pixel'] == sel_pixel[0]]\n",
    "df3.sort_index(inplace = True)"
   ]
  },
  {
   "cell_type": "code",
   "execution_count": 162,
   "metadata": {},
   "outputs": [
    {
     "name": "stderr",
     "output_type": "stream",
     "text": [
      "C:\\Users\\tank\\Anaconda3\\envs\\tensorflow\\lib\\site-packages\\ipykernel_launcher.py:4: SettingWithCopyWarning: \n",
      "A value is trying to be set on a copy of a slice from a DataFrame.\n",
      "Try using .loc[row_indexer,col_indexer] = value instead\n",
      "\n",
      "See the caveats in the documentation: https://pandas.pydata.org/pandas-docs/stable/user_guide/indexing.html#returning-a-view-versus-a-copy\n",
      "  after removing the cwd from sys.path.\n"
     ]
    }
   ],
   "source": [
    "bins = [min(df3['qa'].min()-0.01, -0.000001),1.0001,df3['qa'].max()]\n",
    "names = ['yes','no']\n",
    "\n",
    "df3['quality'] = pd.cut(df3['qa'],bins,labels = names)"
   ]
  },
  {
   "cell_type": "markdown",
   "metadata": {},
   "source": [
    "## data format (still use the function in 2.2)"
   ]
  },
  {
   "cell_type": "code",
   "execution_count": 163,
   "metadata": {},
   "outputs": [],
   "source": [
    "##about 20 years data and 0.8 for training\n",
    "sel_date= \"2016-01-01\"\n",
    "df_train3 = df3[df3.index < sel_date ]\n",
    "df_test3 = df3[df3.index >= sel_date ]"
   ]
  },
  {
   "cell_type": "code",
   "execution_count": 164,
   "metadata": {},
   "outputs": [
    {
     "data": {
      "text/html": [
       "<div>\n",
       "<style scoped>\n",
       "    .dataframe tbody tr th:only-of-type {\n",
       "        vertical-align: middle;\n",
       "    }\n",
       "\n",
       "    .dataframe tbody tr th {\n",
       "        vertical-align: top;\n",
       "    }\n",
       "\n",
       "    .dataframe thead th {\n",
       "        text-align: right;\n",
       "    }\n",
       "</style>\n",
       "<table border=\"1\" class=\"dataframe\">\n",
       "  <thead>\n",
       "    <tr style=\"text-align: right;\">\n",
       "      <th></th>\n",
       "      <th>pixel</th>\n",
       "      <th>year</th>\n",
       "      <th>ndvi</th>\n",
       "      <th>evi</th>\n",
       "      <th>qa</th>\n",
       "      <th>land_cover</th>\n",
       "      <th>lc_time</th>\n",
       "      <th>quality</th>\n",
       "    </tr>\n",
       "    <tr>\n",
       "      <th>time</th>\n",
       "      <th></th>\n",
       "      <th></th>\n",
       "      <th></th>\n",
       "      <th></th>\n",
       "      <th></th>\n",
       "      <th></th>\n",
       "      <th></th>\n",
       "      <th></th>\n",
       "    </tr>\n",
       "  </thead>\n",
       "  <tbody>\n",
       "    <tr>\n",
       "      <th>2001-01-01</th>\n",
       "      <td>464</td>\n",
       "      <td>2001</td>\n",
       "      <td>0.510641</td>\n",
       "      <td>0.287295</td>\n",
       "      <td>1.0</td>\n",
       "      <td>8.0</td>\n",
       "      <td>2001-01-01</td>\n",
       "      <td>yes</td>\n",
       "    </tr>\n",
       "    <tr>\n",
       "      <th>2001-01-17</th>\n",
       "      <td>464</td>\n",
       "      <td>2001</td>\n",
       "      <td>0.457637</td>\n",
       "      <td>0.162410</td>\n",
       "      <td>1.0</td>\n",
       "      <td>8.0</td>\n",
       "      <td>2001-01-01</td>\n",
       "      <td>yes</td>\n",
       "    </tr>\n",
       "    <tr>\n",
       "      <th>2001-02-02</th>\n",
       "      <td>464</td>\n",
       "      <td>2001</td>\n",
       "      <td>0.553835</td>\n",
       "      <td>0.315182</td>\n",
       "      <td>0.0</td>\n",
       "      <td>8.0</td>\n",
       "      <td>2001-01-01</td>\n",
       "      <td>yes</td>\n",
       "    </tr>\n",
       "    <tr>\n",
       "      <th>2001-02-18</th>\n",
       "      <td>464</td>\n",
       "      <td>2001</td>\n",
       "      <td>0.079125</td>\n",
       "      <td>0.101180</td>\n",
       "      <td>2.0</td>\n",
       "      <td>8.0</td>\n",
       "      <td>2001-01-01</td>\n",
       "      <td>no</td>\n",
       "    </tr>\n",
       "    <tr>\n",
       "      <th>2001-03-06</th>\n",
       "      <td>464</td>\n",
       "      <td>2001</td>\n",
       "      <td>0.522178</td>\n",
       "      <td>0.280573</td>\n",
       "      <td>0.0</td>\n",
       "      <td>8.0</td>\n",
       "      <td>2001-01-01</td>\n",
       "      <td>yes</td>\n",
       "    </tr>\n",
       "  </tbody>\n",
       "</table>\n",
       "</div>"
      ],
      "text/plain": [
       "            pixel  year      ndvi       evi   qa  land_cover     lc_time  \\\n",
       "time                                                                       \n",
       "2001-01-01    464  2001  0.510641  0.287295  1.0         8.0  2001-01-01   \n",
       "2001-01-17    464  2001  0.457637  0.162410  1.0         8.0  2001-01-01   \n",
       "2001-02-02    464  2001  0.553835  0.315182  0.0         8.0  2001-01-01   \n",
       "2001-02-18    464  2001  0.079125  0.101180  2.0         8.0  2001-01-01   \n",
       "2001-03-06    464  2001  0.522178  0.280573  0.0         8.0  2001-01-01   \n",
       "\n",
       "           quality  \n",
       "time                \n",
       "2001-01-01     yes  \n",
       "2001-01-17     yes  \n",
       "2001-02-02     yes  \n",
       "2001-02-18      no  \n",
       "2001-03-06     yes  "
      ]
     },
     "execution_count": 164,
     "metadata": {},
     "output_type": "execute_result"
    }
   ],
   "source": [
    "df_train3.head()"
   ]
  },
  {
   "cell_type": "code",
   "execution_count": 165,
   "metadata": {},
   "outputs": [
    {
     "name": "stdout",
     "output_type": "stream",
     "text": [
      "Shape of training set: (335, 10, 2)\n",
      "Shape of test set: (82, 10, 2)\n"
     ]
    }
   ],
   "source": [
    "SEQUENCE_SIZE = 10\n",
    "x_train3,y_train3,train_index = to_sequences_MD(SEQUENCE_SIZE,df_train3,xcols=['ndvi','evi'],ycol = ['quality'])\n",
    "x_test3,y_test3,test_index = to_sequences_MD(SEQUENCE_SIZE,df_test3,xcols=['ndvi','evi'],ycol = ['quality'])\n",
    "\n",
    "print(\"Shape of training set: {}\".format(x_train2.shape))\n",
    "print(\"Shape of test set: {}\".format(x_test2.shape))"
   ]
  },
  {
   "cell_type": "code",
   "execution_count": 166,
   "metadata": {},
   "outputs": [],
   "source": [
    "y_train31 = y_train3.reshape((y_train3.shape[0],))\n",
    "y_test31 = y_test3.reshape((y_test3.shape[0],))"
   ]
  },
  {
   "cell_type": "code",
   "execution_count": 179,
   "metadata": {},
   "outputs": [],
   "source": [
    "y_train32 = pd.get_dummies(pd.DataFrame(y_train31)).values\n",
    "y_test32 = pd.get_dummies(pd.DataFrame(y_test31)).values"
   ]
  },
  {
   "cell_type": "code",
   "execution_count": 171,
   "metadata": {},
   "outputs": [],
   "source": [
    "num_class = x_train3.shape[2]"
   ]
  },
  {
   "cell_type": "code",
   "execution_count": 182,
   "metadata": {},
   "outputs": [
    {
     "name": "stdout",
     "output_type": "stream",
     "text": [
      "Train...\n",
      "Train on 335 samples, validate on 82 samples\n",
      "Epoch 1/1000\n",
      "335/335 - 3s - loss: 0.4833 - val_loss: 0.2965\n",
      "Epoch 2/1000\n",
      "335/335 - 0s - loss: 0.3148 - val_loss: 0.2968\n",
      "Epoch 3/1000\n",
      "335/335 - 0s - loss: 0.3039 - val_loss: 0.2922\n",
      "Epoch 4/1000\n",
      "335/335 - 0s - loss: 0.3000 - val_loss: 0.2913\n",
      "Epoch 5/1000\n",
      "335/335 - 0s - loss: 0.2968 - val_loss: 0.2907\n",
      "Epoch 6/1000\n",
      "335/335 - 0s - loss: 0.2978 - val_loss: 0.2888\n",
      "Epoch 7/1000\n",
      "335/335 - 0s - loss: 0.2934 - val_loss: 0.2883\n",
      "Epoch 8/1000\n",
      "335/335 - 0s - loss: 0.2858 - val_loss: 0.2859\n",
      "Epoch 9/1000\n",
      "335/335 - 0s - loss: 0.2846 - val_loss: 0.2844\n",
      "Epoch 10/1000\n",
      "335/335 - 0s - loss: 0.2828 - val_loss: 0.2828\n",
      "Epoch 11/1000\n",
      "335/335 - 0s - loss: 0.2740 - val_loss: 0.2830\n",
      "Epoch 12/1000\n",
      "335/335 - 0s - loss: 0.2782 - val_loss: 0.2840\n",
      "Epoch 13/1000\n",
      "335/335 - 0s - loss: 0.2659 - val_loss: 0.2967\n",
      "Epoch 14/1000\n",
      "335/335 - 0s - loss: 0.2686 - val_loss: 0.2801\n",
      "Epoch 15/1000\n",
      "335/335 - 0s - loss: 0.2604 - val_loss: 0.3219\n",
      "Epoch 16/1000\n",
      "335/335 - 0s - loss: 0.2696 - val_loss: 0.2879\n",
      "Epoch 17/1000\n",
      "335/335 - 0s - loss: 0.2575 - val_loss: 0.2797\n",
      "Epoch 18/1000\n",
      "335/335 - 0s - loss: 0.2527 - val_loss: 0.2984\n",
      "Epoch 19/1000\n",
      "335/335 - 0s - loss: 0.2610 - val_loss: 0.2882\n",
      "Epoch 20/1000\n",
      "335/335 - 0s - loss: 0.2570 - val_loss: 0.2798\n",
      "Epoch 21/1000\n",
      "335/335 - 0s - loss: 0.2499 - val_loss: 0.2814\n",
      "Epoch 22/1000\n",
      "335/335 - 0s - loss: 0.2508 - val_loss: 0.2793\n",
      "Epoch 23/1000\n",
      "335/335 - 0s - loss: 0.2664 - val_loss: 0.2955\n",
      "Epoch 24/1000\n",
      "335/335 - 0s - loss: 0.2525 - val_loss: 0.2790\n",
      "Epoch 25/1000\n",
      "335/335 - 0s - loss: 0.2484 - val_loss: 0.2848\n",
      "Epoch 26/1000\n",
      "335/335 - 0s - loss: 0.2498 - val_loss: 0.2791\n",
      "Epoch 27/1000\n",
      "335/335 - 0s - loss: 0.2425 - val_loss: 0.2953\n",
      "Epoch 28/1000\n",
      "335/335 - 0s - loss: 0.2530 - val_loss: 0.2857\n",
      "Epoch 29/1000\n",
      "335/335 - 0s - loss: 0.2516 - val_loss: 0.2989\n",
      "Epoch 30/1000\n",
      "335/335 - 0s - loss: 0.2536 - val_loss: 0.2777\n",
      "Epoch 31/1000\n",
      "335/335 - 0s - loss: 0.2416 - val_loss: 0.2822\n",
      "Epoch 32/1000\n",
      "335/335 - 0s - loss: 0.2400 - val_loss: 0.2805\n",
      "Epoch 33/1000\n",
      "335/335 - 0s - loss: 0.2330 - val_loss: 0.2840\n",
      "Epoch 34/1000\n",
      "335/335 - 0s - loss: 0.2287 - val_loss: 0.2768\n",
      "Epoch 35/1000\n",
      "335/335 - 0s - loss: 0.2326 - val_loss: 0.2764\n",
      "Epoch 36/1000\n",
      "335/335 - 0s - loss: 0.2219 - val_loss: 0.2806\n",
      "Epoch 37/1000\n",
      "335/335 - 0s - loss: 0.2395 - val_loss: 0.3324\n",
      "Epoch 38/1000\n",
      "335/335 - 0s - loss: 0.2589 - val_loss: 0.2756\n",
      "Epoch 39/1000\n",
      "335/335 - 0s - loss: 0.2274 - val_loss: 0.2739\n",
      "Epoch 40/1000\n",
      "335/335 - 0s - loss: 0.2218 - val_loss: 0.2790\n",
      "Epoch 41/1000\n",
      "335/335 - 0s - loss: 0.2146 - val_loss: 0.2723\n",
      "Epoch 42/1000\n",
      "335/335 - 0s - loss: 0.2122 - val_loss: 0.2989\n",
      "Epoch 43/1000\n",
      "335/335 - 0s - loss: 0.2127 - val_loss: 0.2711\n",
      "Epoch 44/1000\n",
      "335/335 - 0s - loss: 0.2087 - val_loss: 0.2904\n",
      "Epoch 45/1000\n",
      "335/335 - 0s - loss: 0.1996 - val_loss: 0.2712\n",
      "Epoch 46/1000\n",
      "335/335 - 0s - loss: 0.1926 - val_loss: 0.2750\n",
      "Epoch 47/1000\n",
      "335/335 - 0s - loss: 0.1896 - val_loss: 0.3132\n",
      "Epoch 48/1000\n",
      "335/335 - 0s - loss: 0.1971 - val_loss: 0.2674\n",
      "Epoch 49/1000\n",
      "335/335 - 0s - loss: 0.1797 - val_loss: 0.3047\n",
      "Epoch 50/1000\n",
      "335/335 - 0s - loss: 0.1835 - val_loss: 0.2667\n",
      "Epoch 51/1000\n",
      "335/335 - 0s - loss: 0.1927 - val_loss: 0.2739\n",
      "Epoch 52/1000\n",
      "335/335 - 0s - loss: 0.1735 - val_loss: 0.2764\n",
      "Epoch 53/1000\n",
      "335/335 - 0s - loss: 0.1758 - val_loss: 0.2831\n",
      "Epoch 54/1000\n",
      "335/335 - 0s - loss: 0.1692 - val_loss: 0.2654\n",
      "Epoch 55/1000\n",
      "335/335 - 0s - loss: 0.1673 - val_loss: 0.3167\n",
      "Epoch 56/1000\n",
      "335/335 - 0s - loss: 0.1705 - val_loss: 0.2644\n",
      "Epoch 57/1000\n",
      "335/335 - 0s - loss: 0.1622 - val_loss: 0.2845\n",
      "Epoch 58/1000\n",
      "335/335 - 0s - loss: 0.1639 - val_loss: 0.2667\n",
      "Epoch 59/1000\n",
      "335/335 - 0s - loss: 0.1560 - val_loss: 0.2857\n",
      "Epoch 60/1000\n",
      "335/335 - 0s - loss: 0.1501 - val_loss: 0.2779\n",
      "Epoch 61/1000\n",
      "335/335 - 0s - loss: 0.1485 - val_loss: 0.2802\n",
      "Epoch 62/1000\n",
      "335/335 - 0s - loss: 0.1492 - val_loss: 0.2912\n",
      "Epoch 63/1000\n",
      "335/335 - 0s - loss: 0.1457 - val_loss: 0.2776\n",
      "Epoch 64/1000\n",
      "335/335 - 0s - loss: 0.1489 - val_loss: 0.3213\n",
      "Epoch 65/1000\n",
      "335/335 - 0s - loss: 0.1514 - val_loss: 0.2848\n",
      "Epoch 66/1000\n",
      "335/335 - 0s - loss: 0.1510 - val_loss: 0.3206\n",
      "Epoch 67/1000\n",
      "335/335 - 0s - loss: 0.1522 - val_loss: 0.2848\n",
      "Epoch 68/1000\n",
      "335/335 - 0s - loss: 0.1425 - val_loss: 0.3033\n",
      "Epoch 69/1000\n",
      "Restoring model weights from the end of the best epoch.\n",
      "335/335 - 0s - loss: 0.1494 - val_loss: 0.3008\n",
      "Epoch 00069: early stopping\n"
     ]
    },
    {
     "data": {
      "text/plain": [
       "<tensorflow.python.keras.callbacks.History at 0x1d6dbbab708>"
      ]
     },
     "execution_count": 182,
     "metadata": {},
     "output_type": "execute_result"
    }
   ],
   "source": [
    "model = Sequential()\n",
    "model.add(LSTM(128, input_shape=(None, num_class)))\n",
    "model.add(Dense(num_class, activation='softmax'))\n",
    "\n",
    "#optimizer = RMSprop(lr=0.01)\n",
    "#model.compile(loss='categorical_crossentropy', optimizer=optimizer)\n",
    "             \n",
    "model.compile(loss='binary_crossentropy', optimizer='adam')\n",
    "monitor = EarlyStopping(monitor='val_loss', min_delta=1e-3, patience=15, verbose=1, mode='auto', restore_best_weights=True)\n",
    "print('Train...')\n",
    "\n",
    "model.fit(x_train3,y_train32,validation_data=(x_test3,y_test32),callbacks=[monitor],verbose=2,epochs=1000)"
   ]
  },
  {
   "cell_type": "code",
   "execution_count": 184,
   "metadata": {},
   "outputs": [],
   "source": [
    "pred = model.predict(x_test3)"
   ]
  },
  {
   "cell_type": "code",
   "execution_count": 185,
   "metadata": {},
   "outputs": [
    {
     "name": "stdout",
     "output_type": "stream",
     "text": [
      "Log loss score: 0.26535736359996587\n"
     ]
    }
   ],
   "source": [
    "score = metrics.log_loss(y_test32, pred)\n",
    "print(\"Log loss score: {}\".format(score))"
   ]
  },
  {
   "cell_type": "code",
   "execution_count": 187,
   "metadata": {},
   "outputs": [],
   "source": [
    "##evaulation FOR CLASSIFICATION\n",
    "predict_classes = np.argmax(pred,axis=1)\n",
    "expected_classes = np.argmax(y_test32,axis=1)"
   ]
  },
  {
   "cell_type": "code",
   "execution_count": 188,
   "metadata": {},
   "outputs": [
    {
     "name": "stdout",
     "output_type": "stream",
     "text": [
      "Accuracy: 0.9146341463414634\n"
     ]
    }
   ],
   "source": [
    "correct = accuracy_score(expected_classes,predict_classes)\n",
    "print(f\"Accuracy: {correct}\")"
   ]
  },
  {
   "cell_type": "code",
   "execution_count": 189,
   "metadata": {},
   "outputs": [
    {
     "data": {
      "text/plain": [
       "array([[ 0,  7],\n",
       "       [ 0, 75]], dtype=int64)"
      ]
     },
     "execution_count": 189,
     "metadata": {},
     "output_type": "execute_result"
    }
   ],
   "source": [
    "confusion_matrix(expected_classes,predict_classes)"
   ]
  },
  {
   "cell_type": "markdown",
   "metadata": {},
   "source": [
    "## Summary\n",
    "\n",
    "Please look at section 2.2"
   ]
  },
  {
   "cell_type": "code",
   "execution_count": null,
   "metadata": {},
   "outputs": [],
   "source": []
  }
 ],
 "metadata": {
  "kernelspec": {
   "display_name": "Python 3.7 (tensorflow)",
   "language": "python",
   "name": "tensorflow"
  },
  "language_info": {
   "codemirror_mode": {
    "name": "ipython",
    "version": 3
   },
   "file_extension": ".py",
   "mimetype": "text/x-python",
   "name": "python",
   "nbconvert_exporter": "python",
   "pygments_lexer": "ipython3",
   "version": "3.7.6"
  }
 },
 "nbformat": 4,
 "nbformat_minor": 2
}
